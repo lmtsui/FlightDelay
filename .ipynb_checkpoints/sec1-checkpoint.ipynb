{
 "cells": [
  {
   "cell_type": "code",
   "execution_count": 1,
   "metadata": {},
   "outputs": [
    {
     "name": "stderr",
     "output_type": "stream",
     "text": [
      "C:\\ProgramData\\Miniconda3\\envs\\myenv\\lib\\site-packages\\IPython\\core\\interactiveshell.py:3049: DtypeWarning: Columns (3) have mixed types. Specify dtype option on import or set low_memory=False.\n",
      "  interactivity=interactivity, compiler=compiler, result=result)\n"
     ]
    }
   ],
   "source": [
    "import numpy as np\n",
    "import pandas as pd\n",
    "df_all = pd.read_csv(\"NYPD_Motor_Vehicle_Collisions.csv\")"
   ]
  },
  {
   "cell_type": "code",
   "execution_count": 2,
   "metadata": {},
   "outputs": [
    {
     "data": {
      "text/html": [
       "<div>\n",
       "<style scoped>\n",
       "    .dataframe tbody tr th:only-of-type {\n",
       "        vertical-align: middle;\n",
       "    }\n",
       "\n",
       "    .dataframe tbody tr th {\n",
       "        vertical-align: top;\n",
       "    }\n",
       "\n",
       "    .dataframe thead th {\n",
       "        text-align: right;\n",
       "    }\n",
       "</style>\n",
       "<table border=\"1\" class=\"dataframe\">\n",
       "  <thead>\n",
       "    <tr style=\"text-align: right;\">\n",
       "      <th></th>\n",
       "      <th>DATE</th>\n",
       "      <th>TIME</th>\n",
       "      <th>BOROUGH</th>\n",
       "      <th>ZIP CODE</th>\n",
       "      <th>LATITUDE</th>\n",
       "      <th>LONGITUDE</th>\n",
       "      <th>LOCATION</th>\n",
       "      <th>ON STREET NAME</th>\n",
       "      <th>CROSS STREET NAME</th>\n",
       "      <th>OFF STREET NAME</th>\n",
       "      <th>...</th>\n",
       "      <th>CONTRIBUTING FACTOR VEHICLE 2</th>\n",
       "      <th>CONTRIBUTING FACTOR VEHICLE 3</th>\n",
       "      <th>CONTRIBUTING FACTOR VEHICLE 4</th>\n",
       "      <th>CONTRIBUTING FACTOR VEHICLE 5</th>\n",
       "      <th>UNIQUE KEY</th>\n",
       "      <th>VEHICLE TYPE CODE 1</th>\n",
       "      <th>VEHICLE TYPE CODE 2</th>\n",
       "      <th>VEHICLE TYPE CODE 3</th>\n",
       "      <th>VEHICLE TYPE CODE 4</th>\n",
       "      <th>VEHICLE TYPE CODE 5</th>\n",
       "    </tr>\n",
       "  </thead>\n",
       "  <tbody>\n",
       "    <tr>\n",
       "      <th>0</th>\n",
       "      <td>04/29/2019</td>\n",
       "      <td>0:00</td>\n",
       "      <td>BRONX</td>\n",
       "      <td>10453</td>\n",
       "      <td>40.848440</td>\n",
       "      <td>-73.91068</td>\n",
       "      <td>(40.84844, -73.91068)</td>\n",
       "      <td>TOWNSEND AVENUE</td>\n",
       "      <td>EAST 176 STREET</td>\n",
       "      <td>NaN</td>\n",
       "      <td>...</td>\n",
       "      <td>Unspecified</td>\n",
       "      <td>NaN</td>\n",
       "      <td>NaN</td>\n",
       "      <td>NaN</td>\n",
       "      <td>4122943</td>\n",
       "      <td>Sedan</td>\n",
       "      <td>Station Wagon/Sport Utility Vehicle</td>\n",
       "      <td>NaN</td>\n",
       "      <td>NaN</td>\n",
       "      <td>NaN</td>\n",
       "    </tr>\n",
       "    <tr>\n",
       "      <th>1</th>\n",
       "      <td>04/29/2019</td>\n",
       "      <td>0:00</td>\n",
       "      <td>QUEENS</td>\n",
       "      <td>11365</td>\n",
       "      <td>40.736595</td>\n",
       "      <td>-73.80013</td>\n",
       "      <td>(40.736595, -73.80013)</td>\n",
       "      <td>169 STREET</td>\n",
       "      <td>65 AVENUE</td>\n",
       "      <td>NaN</td>\n",
       "      <td>...</td>\n",
       "      <td>Unspecified</td>\n",
       "      <td>NaN</td>\n",
       "      <td>NaN</td>\n",
       "      <td>NaN</td>\n",
       "      <td>4122788</td>\n",
       "      <td>Station Wagon/Sport Utility Vehicle</td>\n",
       "      <td>Sedan</td>\n",
       "      <td>NaN</td>\n",
       "      <td>NaN</td>\n",
       "      <td>NaN</td>\n",
       "    </tr>\n",
       "    <tr>\n",
       "      <th>2</th>\n",
       "      <td>04/29/2019</td>\n",
       "      <td>0:00</td>\n",
       "      <td>QUEENS</td>\n",
       "      <td>11374</td>\n",
       "      <td>40.730503</td>\n",
       "      <td>-73.86980</td>\n",
       "      <td>(40.730503, -73.8698)</td>\n",
       "      <td>ELIOT AVENUE</td>\n",
       "      <td>WETHEROLE STREET</td>\n",
       "      <td>NaN</td>\n",
       "      <td>...</td>\n",
       "      <td>NaN</td>\n",
       "      <td>NaN</td>\n",
       "      <td>NaN</td>\n",
       "      <td>NaN</td>\n",
       "      <td>4122525</td>\n",
       "      <td>Station Wagon/Sport Utility Vehicle</td>\n",
       "      <td>NaN</td>\n",
       "      <td>NaN</td>\n",
       "      <td>NaN</td>\n",
       "      <td>NaN</td>\n",
       "    </tr>\n",
       "    <tr>\n",
       "      <th>3</th>\n",
       "      <td>04/29/2019</td>\n",
       "      <td>0:00</td>\n",
       "      <td>QUEENS</td>\n",
       "      <td>11413</td>\n",
       "      <td>40.670630</td>\n",
       "      <td>-73.75643</td>\n",
       "      <td>(40.67063, -73.75643)</td>\n",
       "      <td>141 ROAD</td>\n",
       "      <td>SPRINGFIELD BOULEVARD</td>\n",
       "      <td>NaN</td>\n",
       "      <td>...</td>\n",
       "      <td>Unsafe Speed</td>\n",
       "      <td>Unspecified</td>\n",
       "      <td>Unspecified</td>\n",
       "      <td>NaN</td>\n",
       "      <td>4122775</td>\n",
       "      <td>Pick-up Truck</td>\n",
       "      <td>Sedan</td>\n",
       "      <td>Station Wagon/Sport Utility Vehicle</td>\n",
       "      <td>Sedan</td>\n",
       "      <td>NaN</td>\n",
       "    </tr>\n",
       "    <tr>\n",
       "      <th>4</th>\n",
       "      <td>04/29/2019</td>\n",
       "      <td>0:00</td>\n",
       "      <td>NaN</td>\n",
       "      <td>NaN</td>\n",
       "      <td>40.669796</td>\n",
       "      <td>-73.87057</td>\n",
       "      <td>(40.669796, -73.87057)</td>\n",
       "      <td>EUCLID AVENUE</td>\n",
       "      <td>NaN</td>\n",
       "      <td>NaN</td>\n",
       "      <td>...</td>\n",
       "      <td>Unspecified</td>\n",
       "      <td>NaN</td>\n",
       "      <td>NaN</td>\n",
       "      <td>NaN</td>\n",
       "      <td>4122913</td>\n",
       "      <td>Pick-up Truck</td>\n",
       "      <td>NaN</td>\n",
       "      <td>NaN</td>\n",
       "      <td>NaN</td>\n",
       "      <td>NaN</td>\n",
       "    </tr>\n",
       "  </tbody>\n",
       "</table>\n",
       "<p>5 rows × 29 columns</p>\n",
       "</div>"
      ],
      "text/plain": [
       "         DATE  TIME BOROUGH ZIP CODE   LATITUDE  LONGITUDE  \\\n",
       "0  04/29/2019  0:00   BRONX    10453  40.848440  -73.91068   \n",
       "1  04/29/2019  0:00  QUEENS    11365  40.736595  -73.80013   \n",
       "2  04/29/2019  0:00  QUEENS    11374  40.730503  -73.86980   \n",
       "3  04/29/2019  0:00  QUEENS    11413  40.670630  -73.75643   \n",
       "4  04/29/2019  0:00     NaN      NaN  40.669796  -73.87057   \n",
       "\n",
       "                 LOCATION                    ON STREET NAME  \\\n",
       "0   (40.84844, -73.91068)  TOWNSEND AVENUE                    \n",
       "1  (40.736595, -73.80013)  169 STREET                         \n",
       "2   (40.730503, -73.8698)  ELIOT AVENUE                       \n",
       "3   (40.67063, -73.75643)  141 ROAD                           \n",
       "4  (40.669796, -73.87057)  EUCLID AVENUE                      \n",
       "\n",
       "       CROSS STREET NAME OFF STREET NAME  ...  CONTRIBUTING FACTOR VEHICLE 2  \\\n",
       "0        EAST 176 STREET             NaN  ...                    Unspecified   \n",
       "1              65 AVENUE             NaN  ...                    Unspecified   \n",
       "2       WETHEROLE STREET             NaN  ...                            NaN   \n",
       "3  SPRINGFIELD BOULEVARD             NaN  ...                   Unsafe Speed   \n",
       "4                    NaN             NaN  ...                    Unspecified   \n",
       "\n",
       "   CONTRIBUTING FACTOR VEHICLE 3  CONTRIBUTING FACTOR VEHICLE 4  \\\n",
       "0                            NaN                            NaN   \n",
       "1                            NaN                            NaN   \n",
       "2                            NaN                            NaN   \n",
       "3                    Unspecified                    Unspecified   \n",
       "4                            NaN                            NaN   \n",
       "\n",
       "   CONTRIBUTING FACTOR VEHICLE 5  UNIQUE KEY  \\\n",
       "0                            NaN     4122943   \n",
       "1                            NaN     4122788   \n",
       "2                            NaN     4122525   \n",
       "3                            NaN     4122775   \n",
       "4                            NaN     4122913   \n",
       "\n",
       "                   VEHICLE TYPE CODE 1                  VEHICLE TYPE CODE 2  \\\n",
       "0                                Sedan  Station Wagon/Sport Utility Vehicle   \n",
       "1  Station Wagon/Sport Utility Vehicle                                Sedan   \n",
       "2  Station Wagon/Sport Utility Vehicle                                  NaN   \n",
       "3                        Pick-up Truck                                Sedan   \n",
       "4                        Pick-up Truck                                  NaN   \n",
       "\n",
       "                   VEHICLE TYPE CODE 3 VEHICLE TYPE CODE 4 VEHICLE TYPE CODE 5  \n",
       "0                                  NaN                 NaN                 NaN  \n",
       "1                                  NaN                 NaN                 NaN  \n",
       "2                                  NaN                 NaN                 NaN  \n",
       "3  Station Wagon/Sport Utility Vehicle               Sedan                 NaN  \n",
       "4                                  NaN                 NaN                 NaN  \n",
       "\n",
       "[5 rows x 29 columns]"
      ]
     },
     "execution_count": 2,
     "metadata": {},
     "output_type": "execute_result"
    }
   ],
   "source": [
    "df_all.head()"
   ]
  },
  {
   "cell_type": "code",
   "execution_count": 3,
   "metadata": {},
   "outputs": [],
   "source": [
    "df_all['DATE'] =pd.to_datetime(df_all.DATE)\n",
    "df=df_all.loc[df_all['DATE'] <= '2018-12-31']"
   ]
  },
  {
   "cell_type": "code",
   "execution_count": 4,
   "metadata": {},
   "outputs": [
    {
     "data": {
      "text/plain": [
       "Index(['DATE', 'TIME', 'BOROUGH', 'ZIP CODE', 'LATITUDE', 'LONGITUDE',\n",
       "       'LOCATION', 'ON STREET NAME', 'CROSS STREET NAME', 'OFF STREET NAME',\n",
       "       'NUMBER OF PERSONS INJURED', 'NUMBER OF PERSONS KILLED',\n",
       "       'NUMBER OF PEDESTRIANS INJURED', 'NUMBER OF PEDESTRIANS KILLED',\n",
       "       'NUMBER OF CYCLIST INJURED', 'NUMBER OF CYCLIST KILLED',\n",
       "       'NUMBER OF MOTORIST INJURED', 'NUMBER OF MOTORIST KILLED',\n",
       "       'CONTRIBUTING FACTOR VEHICLE 1', 'CONTRIBUTING FACTOR VEHICLE 2',\n",
       "       'CONTRIBUTING FACTOR VEHICLE 3', 'CONTRIBUTING FACTOR VEHICLE 4',\n",
       "       'CONTRIBUTING FACTOR VEHICLE 5', 'UNIQUE KEY', 'VEHICLE TYPE CODE 1',\n",
       "       'VEHICLE TYPE CODE 2', 'VEHICLE TYPE CODE 3', 'VEHICLE TYPE CODE 4',\n",
       "       'VEHICLE TYPE CODE 5'],\n",
       "      dtype='object')"
      ]
     },
     "execution_count": 4,
     "metadata": {},
     "output_type": "execute_result"
    }
   ],
   "source": [
    "df.columns"
   ]
  },
  {
   "cell_type": "code",
   "execution_count": 5,
   "metadata": {},
   "outputs": [
    {
     "name": "stdout",
     "output_type": "stream",
     "text": [
      "Q1: 368034.0\n"
     ]
    }
   ],
   "source": [
    "print('Q1:',df['NUMBER OF PERSONS INJURED'].sum()) #Q1"
   ]
  },
  {
   "cell_type": "code",
   "execution_count": 6,
   "metadata": {},
   "outputs": [
    {
     "name": "stdout",
     "output_type": "stream",
     "text": [
      "Q2: 0.3089722884436893\n"
     ]
    }
   ],
   "source": [
    "print('Q2:',sum(df['BOROUGH']=='BROOKLYN')/sum(df['BOROUGH'].notnull())) #Q2"
   ]
  },
  {
   "cell_type": "code",
   "execution_count": 8,
   "metadata": {},
   "outputs": [],
   "source": [
    "df2016=df_all.loc[(df_all['DATE'] <= '2016-12-31') & (df_all['DATE'] >= '2016-1-1')]"
   ]
  },
  {
   "cell_type": "code",
   "execution_count": 10,
   "metadata": {},
   "outputs": [
    {
     "name": "stdout",
     "output_type": "stream",
     "text": [
      "Q3: 0.021654742632339373\n"
     ]
    }
   ],
   "source": [
    "print('Q3:',(sum((df2016['NUMBER OF CYCLIST INJURED']>0)|(df2016['NUMBER OF CYCLIST KILLED']>0)))/len(df2016)) #Q3"
   ]
  },
  {
   "cell_type": "code",
   "execution_count": 11,
   "metadata": {},
   "outputs": [],
   "source": [
    "df2017=df_all.loc[(df_all['DATE'] <= '2017-12-31') & (df_all['DATE'] >= '2017-1-1')]"
   ]
  },
  {
   "cell_type": "code",
   "execution_count": 12,
   "metadata": {},
   "outputs": [
    {
     "data": {
      "text/plain": [
       "{'Accelerator Defective',\n",
       " 'Aggressive Driving/Road Rage',\n",
       " 'Alcohol Involvement',\n",
       " 'Animals Action',\n",
       " 'Backing Unsafely',\n",
       " 'Brakes Defective',\n",
       " 'Cell Phone (hand-Held)',\n",
       " 'Cell Phone (hands-free)',\n",
       " 'Driver Inattention/Distraction',\n",
       " 'Driver Inexperience',\n",
       " 'Driverless/Runaway Vehicle',\n",
       " 'Drugs (illegal)',\n",
       " 'Eating or Drinking',\n",
       " 'Failure to Keep Right',\n",
       " 'Failure to Yield Right-of-Way',\n",
       " 'Fatigued/Drowsy',\n",
       " 'Fell Asleep',\n",
       " 'Following Too Closely',\n",
       " 'Glare',\n",
       " 'Headlights Defective',\n",
       " 'Illnes',\n",
       " 'Lane Marking Improper/Inadequate',\n",
       " 'Listening/Using Headphones',\n",
       " 'Lost Consciousness',\n",
       " 'Obstruction/Debris',\n",
       " 'Other Electronic Device',\n",
       " 'Other Lighting Defects',\n",
       " 'Other Vehicular',\n",
       " 'Outside Car Distraction',\n",
       " 'Oversized Vehicle',\n",
       " 'Passenger Distraction',\n",
       " 'Passing Too Closely',\n",
       " 'Passing or Lane Usage Improper',\n",
       " 'Pavement Defective',\n",
       " 'Pavement Slippery',\n",
       " 'Pedestrian/Bicyclist/Other Pedestrian Error/Confusion',\n",
       " 'Physical Disability',\n",
       " 'Prescription Medication',\n",
       " 'Reaction to Uninvolved Vehicle',\n",
       " 'Shoulders Defective/Improper',\n",
       " 'Steering Failure',\n",
       " 'Texting',\n",
       " 'Tinted Windows',\n",
       " 'Tire Failure/Inadequate',\n",
       " 'Tow Hitch Defective',\n",
       " 'Traffic Control Device Improper/Non-Working',\n",
       " 'Traffic Control Disregarded',\n",
       " 'Turning Improperly',\n",
       " 'Unsafe Lane Changing',\n",
       " 'Unsafe Speed',\n",
       " 'Unspecified',\n",
       " 'Using On Board Navigation Device',\n",
       " 'Vehicle Vandalism',\n",
       " 'View Obstructed/Limited',\n",
       " 'Windshield Inadequate',\n",
       " nan}"
      ]
     },
     "execution_count": 12,
     "metadata": {},
     "output_type": "execute_result"
    }
   ],
   "source": [
    "set(np.concatenate([df2017['CONTRIBUTING FACTOR VEHICLE '+str(i)].unique() for i in [1,2,3,4,5]]))"
   ]
  },
  {
   "cell_type": "code",
   "execution_count": 13,
   "metadata": {},
   "outputs": [],
   "source": [
    "boroughs = df2017['BOROUGH'][df2017['BOROUGH'].notnull()].unique()"
   ]
  },
  {
   "cell_type": "code",
   "execution_count": 14,
   "metadata": {},
   "outputs": [
    {
     "data": {
      "text/plain": [
       "[2539, 150, 14, 3, 1]"
      ]
     },
     "execution_count": 14,
     "metadata": {},
     "output_type": "execute_result"
    }
   ],
   "source": [
    "alcol_mask= lambda i:df2017['CONTRIBUTING FACTOR VEHICLE '+str(i)]=='Alcohol Involvement'\n",
    "[sum(alcol_mask(i)) for i in [1,2,3,4,5]]"
   ]
  },
  {
   "cell_type": "code",
   "execution_count": 15,
   "metadata": {},
   "outputs": [],
   "source": [
    "alcohol_mask=alcol_mask(1)|alcol_mask(2)|alcol_mask(3)|alcol_mask(4)|alcol_mask(5)\n",
    "df2017a=df2017[alcohol_mask]\n",
    "alco_stat={b:sum(df2017a['BOROUGH']==b) for b in boroughs}"
   ]
  },
  {
   "cell_type": "code",
   "execution_count": 16,
   "metadata": {},
   "outputs": [
    {
     "data": {
      "text/plain": [
       "928"
      ]
     },
     "execution_count": 16,
     "metadata": {},
     "output_type": "execute_result"
    }
   ],
   "source": [
    "sum(df2017a['BOROUGH'].isnull())"
   ]
  },
  {
   "cell_type": "code",
   "execution_count": 17,
   "metadata": {},
   "outputs": [],
   "source": [
    "pop={'MANHATTAN':1664727,'BRONX':1471160,'QUEENS':2358582,'BROOKLYN':2648771,'STATEN ISLAND':479458}"
   ]
  },
  {
   "cell_type": "code",
   "execution_count": 18,
   "metadata": {},
   "outputs": [
    {
     "name": "stdout",
     "output_type": "stream",
     "text": [
      "Q4: {'MANHATTAN': 0.00015558106524373065, 'BRONX': 0.00018624758693819844, 'QUEENS': 0.00021707958425867745, 'BROOKLYN': 0.00022727521556223623, 'STATEN ISLAND': 0.00020856884231778384}\n"
     ]
    }
   ],
   "source": [
    "print('Q4:',{b:alco_stat[b]/pop[b] for b in boroughs})  #Q4"
   ]
  },
  {
   "cell_type": "code",
   "execution_count": 19,
   "metadata": {},
   "outputs": [
    {
     "data": {
      "text/plain": [
       "array([nan, 11377.0, 10467.0, 10459.0, 10474.0, 11217.0, 10472.0, 11207.0,\n",
       "       10463.0, 10013.0, 11423.0, 10038.0, 11221.0, 11226.0, 10037.0,\n",
       "       11417.0, 11419.0, 11379.0, 10010.0, 10001.0, 10003.0, 10456.0,\n",
       "       10128.0, 11413.0, 10306.0, 11428.0, 10024.0, 10036.0, 11203.0,\n",
       "       11378.0, 11204.0, 11229.0, 11368.0, 11420.0, 11201.0, 11225.0,\n",
       "       10466.0, 11212.0, 11214.0, 10309.0, 10016.0, 10455.0, 11206.0,\n",
       "       10461.0, 10475.0, 10019.0, 11433.0, 10018.0, 11415.0, 11104.0,\n",
       "       11361.0, 10022.0, 10308.0, 10454.0, 11223.0, 11218.0, 10462.0,\n",
       "       11234.0, 11355.0, 10027.0, 11367.0, 11385.0, 10469.0, 11233.0,\n",
       "       11354.0, 11101.0, 11236.0, 11238.0, 11421.0, 11427.0, 11205.0,\n",
       "       11372.0, 10465.0, 11222.0, 11102.0, 11363.0, 11374.0, 10029.0,\n",
       "       11412.0, 10460.0, 11219.0, 11208.0, 11239.0, 10457.0, 11209.0,\n",
       "       10034.0, 10033.0, 11228.0, 10017.0, 10310.0, 11691.0, 11105.0,\n",
       "       11373.0, 10069.0, 11213.0, 10012.0, 11106.0, 11418.0, 10470.0,\n",
       "       10468.0, 11375.0, 11230.0, 10075.0, 11694.0, 11416.0, 11434.0,\n",
       "       11210.0, 10065.0, 11432.0, 10002.0, 11249.0, 11211.0, 10031.0,\n",
       "       10039.0, 10004.0, 10030.0, 11426.0, 10305.0, 11220.0, 10007.0,\n",
       "       11103.0, 11369.0, 11216.0, 11357.0, 11237.0, 11422.0, 11235.0,\n",
       "       11366.0, 11365.0, 11215.0, 10453.0, 10452.0, 10021.0, 10168.0,\n",
       "       10301.0, 10458.0, 11693.0, 11414.0, 10023.0, 10011.0, 11231.0,\n",
       "       10312.0, 10314.0, 10451.0, 11435.0, 11436.0, 11001.0, 10028.0,\n",
       "       11429.0, 10119.0, 11362.0, 10304.0, 10040.0, 11109.0, 11411.0,\n",
       "       10014.0, 10473.0, 10035.0, 11358.0, 11364.0, 10009.0, 11356.0,\n",
       "       10025.0, 11004.0, 10307.0, 11370.0, 10118.0, 11232.0, 10282.0,\n",
       "       11360.0, 10026.0, 10032.0, 10006.0, 11224.0, 10005.0, 10471.0,\n",
       "       11430.0, 10020.0, 11692.0, 10110.0, 11040.0, 10169.0, 10172.0,\n",
       "       10464.0, 10302.0, 10278.0, 10155.0, 11697.0, 10280.0, 10000.0,\n",
       "       10167.0, 11005.0, 10121.0, 10165.0, 10173.0, 10106.0, 10105.0,\n",
       "       10111.0, 10178.0, 10123.0, 10271.0, 10281.0, 10153.0, 10115.0,\n",
       "       10107.0, 10166.0, 10174.0, 10112.0, 10103.0, 10151.0, 10279.0,\n",
       "       11251.0, 11359.0, 10170.0, 11242.0, 10048.0], dtype=object)"
      ]
     },
     "execution_count": 19,
     "metadata": {},
     "output_type": "execute_result"
    }
   ],
   "source": [
    "df2016['ZIP CODE'].unique()"
   ]
  },
  {
   "cell_type": "code",
   "execution_count": 20,
   "metadata": {},
   "outputs": [
    {
     "data": {
      "text/plain": [
       "153244"
      ]
     },
     "execution_count": 20,
     "metadata": {},
     "output_type": "execute_result"
    }
   ],
   "source": [
    "df2016['ZIP CODE'].notnull().sum()"
   ]
  },
  {
   "cell_type": "code",
   "execution_count": 21,
   "metadata": {},
   "outputs": [
    {
     "data": {
      "text/plain": [
       "ZIP CODE\n",
       "10000.0      95\n",
       "10001.0    1864\n",
       "10002.0    1627\n",
       "10003.0    1119\n",
       "10004.0     256\n",
       "10005.0     167\n",
       "10006.0     176\n",
       "10007.0     530\n",
       "10009.0     607\n",
       "10010.0     826\n",
       "10011.0    1330\n",
       "10012.0     898\n",
       "10013.0    1673\n",
       "10014.0     686\n",
       "10016.0    1905\n",
       "10017.0    1161\n",
       "10018.0    1350\n",
       "10019.0    1939\n",
       "10020.0     108\n",
       "10021.0     723\n",
       "10022.0    1869\n",
       "10023.0     772\n",
       "10024.0     648\n",
       "10025.0     797\n",
       "10026.0     456\n",
       "10027.0     998\n",
       "10028.0     517\n",
       "10029.0    1078\n",
       "10030.0     479\n",
       "10031.0     550\n",
       "           ... \n",
       "11379.0     562\n",
       "11385.0    1779\n",
       "11411.0     464\n",
       "11412.0     723\n",
       "11413.0    1140\n",
       "11414.0     477\n",
       "11415.0     306\n",
       "11416.0     489\n",
       "11417.0     780\n",
       "11418.0     733\n",
       "11419.0     964\n",
       "11420.0    1234\n",
       "11421.0     589\n",
       "11422.0     917\n",
       "11423.0     575\n",
       "11426.0     310\n",
       "11427.0     388\n",
       "11428.0     348\n",
       "11429.0     538\n",
       "11430.0      26\n",
       "11432.0    1186\n",
       "11433.0     792\n",
       "11434.0    1848\n",
       "11435.0    1036\n",
       "11436.0     405\n",
       "11691.0     848\n",
       "11692.0     212\n",
       "11693.0     205\n",
       "11694.0     255\n",
       "11697.0      14\n",
       "Length: 215, dtype: int64"
      ]
     },
     "execution_count": 21,
     "metadata": {},
     "output_type": "execute_result"
    }
   ],
   "source": [
    "df2016.groupby('ZIP CODE').size()"
   ]
  },
  {
   "cell_type": "code",
   "execution_count": 22,
   "metadata": {},
   "outputs": [
    {
     "name": "stdout",
     "output_type": "stream",
     "text": [
      "Q5: 2698\n"
     ]
    }
   ],
   "source": [
    "print('Q5:',df2016.groupby('ZIP CODE').size().max()) #Q5"
   ]
  },
  {
   "cell_type": "code",
   "execution_count": 23,
   "metadata": {},
   "outputs": [],
   "source": [
    "years = np.array(range(2013,2019))\n",
    "coll_by_yr=np.array([len(df_all.loc[(df_all['DATE'] <= str(yr)+'-12-31') & (df_all['DATE'] >= str(yr)+'-1-1')]) for yr in years])"
   ]
  },
  {
   "cell_type": "code",
   "execution_count": 24,
   "metadata": {},
   "outputs": [],
   "source": [
    "x = years - np.mean(years)\n",
    "y = coll_by_yr - np.mean(coll_by_yr)"
   ]
  },
  {
   "cell_type": "code",
   "execution_count": 25,
   "metadata": {},
   "outputs": [
    {
     "name": "stdout",
     "output_type": "stream",
     "text": [
      "Q6: 6448.057142857143\n"
     ]
    }
   ],
   "source": [
    "beta = np.sum(x*y)/np.sum(x**2)\n",
    "print('Q6:',beta) #Q6"
   ]
  },
  {
   "cell_type": "code",
   "execution_count": 26,
   "metadata": {},
   "outputs": [],
   "source": [
    "alpha = np.mean(coll_by_yr) - beta *  np.mean(years)"
   ]
  },
  {
   "cell_type": "code",
   "execution_count": 27,
   "metadata": {},
   "outputs": [],
   "source": [
    "df2017m = df2017.groupby(pd.Grouper(key='DATE',freq='M'))"
   ]
  },
  {
   "cell_type": "code",
   "execution_count": 28,
   "metadata": {},
   "outputs": [
    {
     "data": {
      "text/plain": [
       "DATE\n",
       "2017-01-31    17551\n",
       "2017-02-28    15835\n",
       "2017-03-31    19336\n",
       "2017-04-30    17829\n",
       "2017-05-31    21012\n",
       "2017-06-30    21369\n",
       "2017-07-31    19593\n",
       "2017-08-31    19134\n",
       "2017-09-30    19604\n",
       "2017-10-31    20358\n",
       "2017-11-30    19661\n",
       "2017-12-31    19715\n",
       "Freq: M, dtype: int64"
      ]
     },
     "execution_count": 28,
     "metadata": {},
     "output_type": "execute_result"
    }
   ],
   "source": [
    "df2017m.size()"
   ]
  },
  {
   "cell_type": "code",
   "execution_count": 29,
   "metadata": {},
   "outputs": [],
   "source": [
    "months=df2017m.groups.keys()"
   ]
  },
  {
   "cell_type": "code",
   "execution_count": 30,
   "metadata": {},
   "outputs": [],
   "source": [
    "dflistm=[df2017m.get_group(m) for m in months]"
   ]
  },
  {
   "cell_type": "code",
   "execution_count": 31,
   "metadata": {},
   "outputs": [
    {
     "data": {
      "text/plain": [
       "[17551,\n",
       " 15835,\n",
       " 19336,\n",
       " 17829,\n",
       " 21012,\n",
       " 21369,\n",
       " 19593,\n",
       " 19134,\n",
       " 19604,\n",
       " 20358,\n",
       " 19661,\n",
       " 19715]"
      ]
     },
     "execution_count": 31,
     "metadata": {},
     "output_type": "execute_result"
    }
   ],
   "source": [
    "[len(x) for x in dflistm]"
   ]
  },
  {
   "cell_type": "code",
   "execution_count": 32,
   "metadata": {},
   "outputs": [],
   "source": [
    "dfjan=dflistm[0]"
   ]
  },
  {
   "cell_type": "code",
   "execution_count": 33,
   "metadata": {},
   "outputs": [
    {
     "data": {
      "text/plain": [
       "Index(['DATE', 'TIME', 'BOROUGH', 'ZIP CODE', 'LATITUDE', 'LONGITUDE',\n",
       "       'LOCATION', 'ON STREET NAME', 'CROSS STREET NAME', 'OFF STREET NAME',\n",
       "       'NUMBER OF PERSONS INJURED', 'NUMBER OF PERSONS KILLED',\n",
       "       'NUMBER OF PEDESTRIANS INJURED', 'NUMBER OF PEDESTRIANS KILLED',\n",
       "       'NUMBER OF CYCLIST INJURED', 'NUMBER OF CYCLIST KILLED',\n",
       "       'NUMBER OF MOTORIST INJURED', 'NUMBER OF MOTORIST KILLED',\n",
       "       'CONTRIBUTING FACTOR VEHICLE 1', 'CONTRIBUTING FACTOR VEHICLE 2',\n",
       "       'CONTRIBUTING FACTOR VEHICLE 3', 'CONTRIBUTING FACTOR VEHICLE 4',\n",
       "       'CONTRIBUTING FACTOR VEHICLE 5', 'UNIQUE KEY', 'VEHICLE TYPE CODE 1',\n",
       "       'VEHICLE TYPE CODE 2', 'VEHICLE TYPE CODE 3', 'VEHICLE TYPE CODE 4',\n",
       "       'VEHICLE TYPE CODE 5'],\n",
       "      dtype='object')"
      ]
     },
     "execution_count": 33,
     "metadata": {},
     "output_type": "execute_result"
    }
   ],
   "source": [
    "dfjan.columns.unique()"
   ]
  },
  {
   "cell_type": "code",
   "execution_count": 34,
   "metadata": {},
   "outputs": [],
   "source": [
    "veh_count = sum(dfjan['VEHICLE TYPE CODE '+str(i)].notnull() for i in range(1,6))"
   ]
  },
  {
   "cell_type": "code",
   "execution_count": 35,
   "metadata": {},
   "outputs": [
    {
     "data": {
      "text/html": [
       "<div>\n",
       "<style scoped>\n",
       "    .dataframe tbody tr th:only-of-type {\n",
       "        vertical-align: middle;\n",
       "    }\n",
       "\n",
       "    .dataframe tbody tr th {\n",
       "        vertical-align: top;\n",
       "    }\n",
       "\n",
       "    .dataframe thead th {\n",
       "        text-align: right;\n",
       "    }\n",
       "</style>\n",
       "<table border=\"1\" class=\"dataframe\">\n",
       "  <thead>\n",
       "    <tr style=\"text-align: right;\">\n",
       "      <th></th>\n",
       "      <th>VEHICLE TYPE CODE 1</th>\n",
       "      <th>VEHICLE TYPE CODE 2</th>\n",
       "      <th>VEHICLE TYPE CODE 3</th>\n",
       "      <th>VEHICLE TYPE CODE 4</th>\n",
       "      <th>VEHICLE TYPE CODE 5</th>\n",
       "    </tr>\n",
       "  </thead>\n",
       "  <tbody>\n",
       "    <tr>\n",
       "      <th>528559</th>\n",
       "      <td>PASSENGER VEHICLE</td>\n",
       "      <td>NaN</td>\n",
       "      <td>NaN</td>\n",
       "      <td>NaN</td>\n",
       "      <td>NaN</td>\n",
       "    </tr>\n",
       "    <tr>\n",
       "      <th>528560</th>\n",
       "      <td>PASSENGER VEHICLE</td>\n",
       "      <td>NaN</td>\n",
       "      <td>NaN</td>\n",
       "      <td>NaN</td>\n",
       "      <td>NaN</td>\n",
       "    </tr>\n",
       "    <tr>\n",
       "      <th>528561</th>\n",
       "      <td>SPORT UTILITY / STATION WAGON</td>\n",
       "      <td>NaN</td>\n",
       "      <td>NaN</td>\n",
       "      <td>NaN</td>\n",
       "      <td>NaN</td>\n",
       "    </tr>\n",
       "    <tr>\n",
       "      <th>528562</th>\n",
       "      <td>PASSENGER VEHICLE</td>\n",
       "      <td>NaN</td>\n",
       "      <td>NaN</td>\n",
       "      <td>NaN</td>\n",
       "      <td>NaN</td>\n",
       "    </tr>\n",
       "    <tr>\n",
       "      <th>528563</th>\n",
       "      <td>PASSENGER VEHICLE</td>\n",
       "      <td>BICYCLE</td>\n",
       "      <td>NaN</td>\n",
       "      <td>NaN</td>\n",
       "      <td>NaN</td>\n",
       "    </tr>\n",
       "    <tr>\n",
       "      <th>528564</th>\n",
       "      <td>PASSENGER VEHICLE</td>\n",
       "      <td>PASSENGER VEHICLE</td>\n",
       "      <td>NaN</td>\n",
       "      <td>NaN</td>\n",
       "      <td>NaN</td>\n",
       "    </tr>\n",
       "    <tr>\n",
       "      <th>528565</th>\n",
       "      <td>PASSENGER VEHICLE</td>\n",
       "      <td>PASSENGER VEHICLE</td>\n",
       "      <td>SPORT UTILITY / STATION WAGON</td>\n",
       "      <td>NaN</td>\n",
       "      <td>NaN</td>\n",
       "    </tr>\n",
       "    <tr>\n",
       "      <th>528566</th>\n",
       "      <td>PASSENGER VEHICLE</td>\n",
       "      <td>PASSENGER VEHICLE</td>\n",
       "      <td>NaN</td>\n",
       "      <td>NaN</td>\n",
       "      <td>NaN</td>\n",
       "    </tr>\n",
       "    <tr>\n",
       "      <th>528567</th>\n",
       "      <td>BICYCLE</td>\n",
       "      <td>NaN</td>\n",
       "      <td>NaN</td>\n",
       "      <td>NaN</td>\n",
       "      <td>NaN</td>\n",
       "    </tr>\n",
       "    <tr>\n",
       "      <th>528568</th>\n",
       "      <td>PASSENGER VEHICLE</td>\n",
       "      <td>TAXI</td>\n",
       "      <td>NaN</td>\n",
       "      <td>NaN</td>\n",
       "      <td>NaN</td>\n",
       "    </tr>\n",
       "    <tr>\n",
       "      <th>528569</th>\n",
       "      <td>SPORT UTILITY / STATION WAGON</td>\n",
       "      <td>NaN</td>\n",
       "      <td>NaN</td>\n",
       "      <td>NaN</td>\n",
       "      <td>NaN</td>\n",
       "    </tr>\n",
       "    <tr>\n",
       "      <th>528570</th>\n",
       "      <td>PASSENGER VEHICLE</td>\n",
       "      <td>PASSENGER VEHICLE</td>\n",
       "      <td>NaN</td>\n",
       "      <td>NaN</td>\n",
       "      <td>NaN</td>\n",
       "    </tr>\n",
       "    <tr>\n",
       "      <th>528571</th>\n",
       "      <td>PASSENGER VEHICLE</td>\n",
       "      <td>SPORT UTILITY / STATION WAGON</td>\n",
       "      <td>NaN</td>\n",
       "      <td>NaN</td>\n",
       "      <td>NaN</td>\n",
       "    </tr>\n",
       "    <tr>\n",
       "      <th>528572</th>\n",
       "      <td>PASSENGER VEHICLE</td>\n",
       "      <td>PASSENGER VEHICLE</td>\n",
       "      <td>NaN</td>\n",
       "      <td>NaN</td>\n",
       "      <td>NaN</td>\n",
       "    </tr>\n",
       "    <tr>\n",
       "      <th>528573</th>\n",
       "      <td>PASSENGER VEHICLE</td>\n",
       "      <td>NaN</td>\n",
       "      <td>NaN</td>\n",
       "      <td>NaN</td>\n",
       "      <td>NaN</td>\n",
       "    </tr>\n",
       "    <tr>\n",
       "      <th>528574</th>\n",
       "      <td>PASSENGER VEHICLE</td>\n",
       "      <td>SPORT UTILITY / STATION WAGON</td>\n",
       "      <td>NaN</td>\n",
       "      <td>NaN</td>\n",
       "      <td>NaN</td>\n",
       "    </tr>\n",
       "    <tr>\n",
       "      <th>528575</th>\n",
       "      <td>PASSENGER VEHICLE</td>\n",
       "      <td>PASSENGER VEHICLE</td>\n",
       "      <td>NaN</td>\n",
       "      <td>NaN</td>\n",
       "      <td>NaN</td>\n",
       "    </tr>\n",
       "    <tr>\n",
       "      <th>528576</th>\n",
       "      <td>PASSENGER VEHICLE</td>\n",
       "      <td>NaN</td>\n",
       "      <td>NaN</td>\n",
       "      <td>NaN</td>\n",
       "      <td>NaN</td>\n",
       "    </tr>\n",
       "    <tr>\n",
       "      <th>528577</th>\n",
       "      <td>SPORT UTILITY / STATION WAGON</td>\n",
       "      <td>PASSENGER VEHICLE</td>\n",
       "      <td>PASSENGER VEHICLE</td>\n",
       "      <td>NaN</td>\n",
       "      <td>NaN</td>\n",
       "    </tr>\n",
       "    <tr>\n",
       "      <th>528578</th>\n",
       "      <td>PASSENGER VEHICLE</td>\n",
       "      <td>PASSENGER VEHICLE</td>\n",
       "      <td>NaN</td>\n",
       "      <td>NaN</td>\n",
       "      <td>NaN</td>\n",
       "    </tr>\n",
       "    <tr>\n",
       "      <th>528579</th>\n",
       "      <td>SPORT UTILITY / STATION WAGON</td>\n",
       "      <td>PASSENGER VEHICLE</td>\n",
       "      <td>NaN</td>\n",
       "      <td>NaN</td>\n",
       "      <td>NaN</td>\n",
       "    </tr>\n",
       "    <tr>\n",
       "      <th>528580</th>\n",
       "      <td>SPORT UTILITY / STATION WAGON</td>\n",
       "      <td>PASSENGER VEHICLE</td>\n",
       "      <td>NaN</td>\n",
       "      <td>NaN</td>\n",
       "      <td>NaN</td>\n",
       "    </tr>\n",
       "    <tr>\n",
       "      <th>528581</th>\n",
       "      <td>PASSENGER VEHICLE</td>\n",
       "      <td>PASSENGER VEHICLE</td>\n",
       "      <td>NaN</td>\n",
       "      <td>NaN</td>\n",
       "      <td>NaN</td>\n",
       "    </tr>\n",
       "    <tr>\n",
       "      <th>528582</th>\n",
       "      <td>TAXI</td>\n",
       "      <td>BICYCLE</td>\n",
       "      <td>NaN</td>\n",
       "      <td>NaN</td>\n",
       "      <td>NaN</td>\n",
       "    </tr>\n",
       "    <tr>\n",
       "      <th>528583</th>\n",
       "      <td>PASSENGER VEHICLE</td>\n",
       "      <td>SPORT UTILITY / STATION WAGON</td>\n",
       "      <td>NaN</td>\n",
       "      <td>NaN</td>\n",
       "      <td>NaN</td>\n",
       "    </tr>\n",
       "    <tr>\n",
       "      <th>528584</th>\n",
       "      <td>PASSENGER VEHICLE</td>\n",
       "      <td>PASSENGER VEHICLE</td>\n",
       "      <td>PASSENGER VEHICLE</td>\n",
       "      <td>PASSENGER VEHICLE</td>\n",
       "      <td>NaN</td>\n",
       "    </tr>\n",
       "    <tr>\n",
       "      <th>528585</th>\n",
       "      <td>PASSENGER VEHICLE</td>\n",
       "      <td>SPORT UTILITY / STATION WAGON</td>\n",
       "      <td>NaN</td>\n",
       "      <td>NaN</td>\n",
       "      <td>NaN</td>\n",
       "    </tr>\n",
       "    <tr>\n",
       "      <th>528586</th>\n",
       "      <td>PASSENGER VEHICLE</td>\n",
       "      <td>SPORT UTILITY / STATION WAGON</td>\n",
       "      <td>NaN</td>\n",
       "      <td>NaN</td>\n",
       "      <td>NaN</td>\n",
       "    </tr>\n",
       "    <tr>\n",
       "      <th>528587</th>\n",
       "      <td>SPORT UTILITY / STATION WAGON</td>\n",
       "      <td>NaN</td>\n",
       "      <td>NaN</td>\n",
       "      <td>NaN</td>\n",
       "      <td>NaN</td>\n",
       "    </tr>\n",
       "    <tr>\n",
       "      <th>528588</th>\n",
       "      <td>PASSENGER VEHICLE</td>\n",
       "      <td>NaN</td>\n",
       "      <td>NaN</td>\n",
       "      <td>NaN</td>\n",
       "      <td>NaN</td>\n",
       "    </tr>\n",
       "    <tr>\n",
       "      <th>...</th>\n",
       "      <td>...</td>\n",
       "      <td>...</td>\n",
       "      <td>...</td>\n",
       "      <td>...</td>\n",
       "      <td>...</td>\n",
       "    </tr>\n",
       "    <tr>\n",
       "      <th>512013</th>\n",
       "      <td>PASSENGER VEHICLE</td>\n",
       "      <td>PASSENGER VEHICLE</td>\n",
       "      <td>PASSENGER VEHICLE</td>\n",
       "      <td>PASSENGER VEHICLE</td>\n",
       "      <td>NaN</td>\n",
       "    </tr>\n",
       "    <tr>\n",
       "      <th>512014</th>\n",
       "      <td>PICK-UP TRUCK</td>\n",
       "      <td>PASSENGER VEHICLE</td>\n",
       "      <td>PICK-UP TRUCK</td>\n",
       "      <td>PASSENGER VEHICLE</td>\n",
       "      <td>NaN</td>\n",
       "    </tr>\n",
       "    <tr>\n",
       "      <th>512015</th>\n",
       "      <td>PASSENGER VEHICLE</td>\n",
       "      <td>PASSENGER VEHICLE</td>\n",
       "      <td>PASSENGER VEHICLE</td>\n",
       "      <td>PASSENGER VEHICLE</td>\n",
       "      <td>PASSENGER VEHICLE</td>\n",
       "    </tr>\n",
       "    <tr>\n",
       "      <th>512016</th>\n",
       "      <td>PASSENGER VEHICLE</td>\n",
       "      <td>PASSENGER VEHICLE</td>\n",
       "      <td>NaN</td>\n",
       "      <td>NaN</td>\n",
       "      <td>NaN</td>\n",
       "    </tr>\n",
       "    <tr>\n",
       "      <th>512017</th>\n",
       "      <td>PASSENGER VEHICLE</td>\n",
       "      <td>PASSENGER VEHICLE</td>\n",
       "      <td>PASSENGER VEHICLE</td>\n",
       "      <td>PASSENGER VEHICLE</td>\n",
       "      <td>NaN</td>\n",
       "    </tr>\n",
       "    <tr>\n",
       "      <th>512018</th>\n",
       "      <td>SPORT UTILITY / STATION WAGON</td>\n",
       "      <td>SPORT UTILITY / STATION WAGON</td>\n",
       "      <td>NaN</td>\n",
       "      <td>NaN</td>\n",
       "      <td>NaN</td>\n",
       "    </tr>\n",
       "    <tr>\n",
       "      <th>512019</th>\n",
       "      <td>PICK-UP TRUCK</td>\n",
       "      <td>PASSENGER VEHICLE</td>\n",
       "      <td>PICK-UP TRUCK</td>\n",
       "      <td>PASSENGER VEHICLE</td>\n",
       "      <td>NaN</td>\n",
       "    </tr>\n",
       "    <tr>\n",
       "      <th>512020</th>\n",
       "      <td>SPORT UTILITY / STATION WAGON</td>\n",
       "      <td>SPORT UTILITY / STATION WAGON</td>\n",
       "      <td>NaN</td>\n",
       "      <td>NaN</td>\n",
       "      <td>NaN</td>\n",
       "    </tr>\n",
       "    <tr>\n",
       "      <th>512021</th>\n",
       "      <td>PASSENGER VEHICLE</td>\n",
       "      <td>PASSENGER VEHICLE</td>\n",
       "      <td>PASSENGER VEHICLE</td>\n",
       "      <td>PASSENGER VEHICLE</td>\n",
       "      <td>NaN</td>\n",
       "    </tr>\n",
       "    <tr>\n",
       "      <th>512022</th>\n",
       "      <td>Van</td>\n",
       "      <td>NaN</td>\n",
       "      <td>NaN</td>\n",
       "      <td>NaN</td>\n",
       "      <td>NaN</td>\n",
       "    </tr>\n",
       "    <tr>\n",
       "      <th>512023</th>\n",
       "      <td>SPORT UTILITY / STATION WAGON</td>\n",
       "      <td>PASSENGER VEHICLE</td>\n",
       "      <td>SPORT UTILITY / STATION WAGON</td>\n",
       "      <td>PASSENGER VEHICLE</td>\n",
       "      <td>NaN</td>\n",
       "    </tr>\n",
       "    <tr>\n",
       "      <th>512024</th>\n",
       "      <td>SPORT UTILITY / STATION WAGON</td>\n",
       "      <td>PASSENGER VEHICLE</td>\n",
       "      <td>NaN</td>\n",
       "      <td>NaN</td>\n",
       "      <td>NaN</td>\n",
       "    </tr>\n",
       "    <tr>\n",
       "      <th>512025</th>\n",
       "      <td>PICK-UP TRUCK</td>\n",
       "      <td>PASSENGER VEHICLE</td>\n",
       "      <td>PASSENGER VEHICLE</td>\n",
       "      <td>PICK-UP TRUCK</td>\n",
       "      <td>PASSENGER VEHICLE</td>\n",
       "    </tr>\n",
       "    <tr>\n",
       "      <th>512026</th>\n",
       "      <td>SPORT UTILITY / STATION WAGON</td>\n",
       "      <td>PASSENGER VEHICLE</td>\n",
       "      <td>NaN</td>\n",
       "      <td>NaN</td>\n",
       "      <td>NaN</td>\n",
       "    </tr>\n",
       "    <tr>\n",
       "      <th>512027</th>\n",
       "      <td>PASSENGER VEHICLE</td>\n",
       "      <td>SPORT UTILITY / STATION WAGON</td>\n",
       "      <td>PASSENGER VEHICLE</td>\n",
       "      <td>SPORT UTILITY / STATION WAGON</td>\n",
       "      <td>NaN</td>\n",
       "    </tr>\n",
       "    <tr>\n",
       "      <th>512028</th>\n",
       "      <td>PASSENGER VEHICLE</td>\n",
       "      <td>PASSENGER VEHICLE</td>\n",
       "      <td>PASSENGER VEHICLE</td>\n",
       "      <td>PASSENGER VEHICLE</td>\n",
       "      <td>NaN</td>\n",
       "    </tr>\n",
       "    <tr>\n",
       "      <th>512029</th>\n",
       "      <td>SPORT UTILITY / STATION WAGON</td>\n",
       "      <td>PASSENGER VEHICLE</td>\n",
       "      <td>SPORT UTILITY / STATION WAGON</td>\n",
       "      <td>PASSENGER VEHICLE</td>\n",
       "      <td>NaN</td>\n",
       "    </tr>\n",
       "    <tr>\n",
       "      <th>512030</th>\n",
       "      <td>TAXI</td>\n",
       "      <td>PICK-UP TRUCK</td>\n",
       "      <td>TAXI</td>\n",
       "      <td>PICK-UP TRUCK</td>\n",
       "      <td>NaN</td>\n",
       "    </tr>\n",
       "    <tr>\n",
       "      <th>512031</th>\n",
       "      <td>PASSENGER VEHICLE</td>\n",
       "      <td>PASSENGER VEHICLE</td>\n",
       "      <td>NaN</td>\n",
       "      <td>NaN</td>\n",
       "      <td>NaN</td>\n",
       "    </tr>\n",
       "    <tr>\n",
       "      <th>512032</th>\n",
       "      <td>PASSENGER VEHICLE</td>\n",
       "      <td>SPORT UTILITY / STATION WAGON</td>\n",
       "      <td>PASSENGER VEHICLE</td>\n",
       "      <td>SPORT UTILITY / STATION WAGON</td>\n",
       "      <td>NaN</td>\n",
       "    </tr>\n",
       "    <tr>\n",
       "      <th>512033</th>\n",
       "      <td>PASSENGER VEHICLE</td>\n",
       "      <td>PASSENGER VEHICLE</td>\n",
       "      <td>PASSENGER VEHICLE</td>\n",
       "      <td>NaN</td>\n",
       "      <td>NaN</td>\n",
       "    </tr>\n",
       "    <tr>\n",
       "      <th>512034</th>\n",
       "      <td>NaN</td>\n",
       "      <td>NaN</td>\n",
       "      <td>NaN</td>\n",
       "      <td>NaN</td>\n",
       "      <td>NaN</td>\n",
       "    </tr>\n",
       "    <tr>\n",
       "      <th>512035</th>\n",
       "      <td>TAXI</td>\n",
       "      <td>NaN</td>\n",
       "      <td>NaN</td>\n",
       "      <td>NaN</td>\n",
       "      <td>NaN</td>\n",
       "    </tr>\n",
       "    <tr>\n",
       "      <th>512036</th>\n",
       "      <td>Taxi</td>\n",
       "      <td>NaN</td>\n",
       "      <td>NaN</td>\n",
       "      <td>NaN</td>\n",
       "      <td>NaN</td>\n",
       "    </tr>\n",
       "    <tr>\n",
       "      <th>512037</th>\n",
       "      <td>SPORT UTILITY / STATION WAGON</td>\n",
       "      <td>PASSENGER VEHICLE</td>\n",
       "      <td>SPORT UTILITY / STATION WAGON</td>\n",
       "      <td>PASSENGER VEHICLE</td>\n",
       "      <td>NaN</td>\n",
       "    </tr>\n",
       "    <tr>\n",
       "      <th>512038</th>\n",
       "      <td>SPORT UTILITY / STATION WAGON</td>\n",
       "      <td>SPORT UTILITY / STATION WAGON</td>\n",
       "      <td>SPORT UTILITY / STATION WAGON</td>\n",
       "      <td>SPORT UTILITY / STATION WAGON</td>\n",
       "      <td>NaN</td>\n",
       "    </tr>\n",
       "    <tr>\n",
       "      <th>512039</th>\n",
       "      <td>PASSENGER VEHICLE</td>\n",
       "      <td>SPORT UTILITY / STATION WAGON</td>\n",
       "      <td>NaN</td>\n",
       "      <td>NaN</td>\n",
       "      <td>NaN</td>\n",
       "    </tr>\n",
       "    <tr>\n",
       "      <th>512040</th>\n",
       "      <td>PASSENGER VEHICLE</td>\n",
       "      <td>PASSENGER VEHICLE</td>\n",
       "      <td>PASSENGER VEHICLE</td>\n",
       "      <td>PASSENGER VEHICLE</td>\n",
       "      <td>NaN</td>\n",
       "    </tr>\n",
       "    <tr>\n",
       "      <th>512041</th>\n",
       "      <td>SPORT UTILITY / STATION WAGON</td>\n",
       "      <td>SPORT UTILITY / STATION WAGON</td>\n",
       "      <td>SPORT UTILITY / STATION WAGON</td>\n",
       "      <td>SPORT UTILITY / STATION WAGON</td>\n",
       "      <td>NaN</td>\n",
       "    </tr>\n",
       "    <tr>\n",
       "      <th>512042</th>\n",
       "      <td>SPORT UTILITY / STATION WAGON</td>\n",
       "      <td>PASSENGER VEHICLE</td>\n",
       "      <td>SPORT UTILITY / STATION WAGON</td>\n",
       "      <td>PASSENGER VEHICLE</td>\n",
       "      <td>SPORT UTILITY / STATION WAGON</td>\n",
       "    </tr>\n",
       "  </tbody>\n",
       "</table>\n",
       "<p>17551 rows × 5 columns</p>\n",
       "</div>"
      ],
      "text/plain": [
       "                  VEHICLE TYPE CODE 1            VEHICLE TYPE CODE 2  \\\n",
       "528559              PASSENGER VEHICLE                            NaN   \n",
       "528560              PASSENGER VEHICLE                            NaN   \n",
       "528561  SPORT UTILITY / STATION WAGON                            NaN   \n",
       "528562              PASSENGER VEHICLE                            NaN   \n",
       "528563              PASSENGER VEHICLE                        BICYCLE   \n",
       "528564              PASSENGER VEHICLE              PASSENGER VEHICLE   \n",
       "528565              PASSENGER VEHICLE              PASSENGER VEHICLE   \n",
       "528566              PASSENGER VEHICLE              PASSENGER VEHICLE   \n",
       "528567                        BICYCLE                            NaN   \n",
       "528568              PASSENGER VEHICLE                           TAXI   \n",
       "528569  SPORT UTILITY / STATION WAGON                            NaN   \n",
       "528570              PASSENGER VEHICLE              PASSENGER VEHICLE   \n",
       "528571              PASSENGER VEHICLE  SPORT UTILITY / STATION WAGON   \n",
       "528572              PASSENGER VEHICLE              PASSENGER VEHICLE   \n",
       "528573              PASSENGER VEHICLE                            NaN   \n",
       "528574              PASSENGER VEHICLE  SPORT UTILITY / STATION WAGON   \n",
       "528575              PASSENGER VEHICLE              PASSENGER VEHICLE   \n",
       "528576              PASSENGER VEHICLE                            NaN   \n",
       "528577  SPORT UTILITY / STATION WAGON              PASSENGER VEHICLE   \n",
       "528578              PASSENGER VEHICLE              PASSENGER VEHICLE   \n",
       "528579  SPORT UTILITY / STATION WAGON              PASSENGER VEHICLE   \n",
       "528580  SPORT UTILITY / STATION WAGON              PASSENGER VEHICLE   \n",
       "528581              PASSENGER VEHICLE              PASSENGER VEHICLE   \n",
       "528582                           TAXI                        BICYCLE   \n",
       "528583              PASSENGER VEHICLE  SPORT UTILITY / STATION WAGON   \n",
       "528584              PASSENGER VEHICLE              PASSENGER VEHICLE   \n",
       "528585              PASSENGER VEHICLE  SPORT UTILITY / STATION WAGON   \n",
       "528586              PASSENGER VEHICLE  SPORT UTILITY / STATION WAGON   \n",
       "528587  SPORT UTILITY / STATION WAGON                            NaN   \n",
       "528588              PASSENGER VEHICLE                            NaN   \n",
       "...                               ...                            ...   \n",
       "512013              PASSENGER VEHICLE              PASSENGER VEHICLE   \n",
       "512014                  PICK-UP TRUCK              PASSENGER VEHICLE   \n",
       "512015              PASSENGER VEHICLE              PASSENGER VEHICLE   \n",
       "512016              PASSENGER VEHICLE              PASSENGER VEHICLE   \n",
       "512017              PASSENGER VEHICLE              PASSENGER VEHICLE   \n",
       "512018  SPORT UTILITY / STATION WAGON  SPORT UTILITY / STATION WAGON   \n",
       "512019                  PICK-UP TRUCK              PASSENGER VEHICLE   \n",
       "512020  SPORT UTILITY / STATION WAGON  SPORT UTILITY / STATION WAGON   \n",
       "512021              PASSENGER VEHICLE              PASSENGER VEHICLE   \n",
       "512022                            Van                            NaN   \n",
       "512023  SPORT UTILITY / STATION WAGON              PASSENGER VEHICLE   \n",
       "512024  SPORT UTILITY / STATION WAGON              PASSENGER VEHICLE   \n",
       "512025                  PICK-UP TRUCK              PASSENGER VEHICLE   \n",
       "512026  SPORT UTILITY / STATION WAGON              PASSENGER VEHICLE   \n",
       "512027              PASSENGER VEHICLE  SPORT UTILITY / STATION WAGON   \n",
       "512028              PASSENGER VEHICLE              PASSENGER VEHICLE   \n",
       "512029  SPORT UTILITY / STATION WAGON              PASSENGER VEHICLE   \n",
       "512030                           TAXI                  PICK-UP TRUCK   \n",
       "512031              PASSENGER VEHICLE              PASSENGER VEHICLE   \n",
       "512032              PASSENGER VEHICLE  SPORT UTILITY / STATION WAGON   \n",
       "512033              PASSENGER VEHICLE              PASSENGER VEHICLE   \n",
       "512034                            NaN                            NaN   \n",
       "512035                           TAXI                            NaN   \n",
       "512036                           Taxi                            NaN   \n",
       "512037  SPORT UTILITY / STATION WAGON              PASSENGER VEHICLE   \n",
       "512038  SPORT UTILITY / STATION WAGON  SPORT UTILITY / STATION WAGON   \n",
       "512039              PASSENGER VEHICLE  SPORT UTILITY / STATION WAGON   \n",
       "512040              PASSENGER VEHICLE              PASSENGER VEHICLE   \n",
       "512041  SPORT UTILITY / STATION WAGON  SPORT UTILITY / STATION WAGON   \n",
       "512042  SPORT UTILITY / STATION WAGON              PASSENGER VEHICLE   \n",
       "\n",
       "                  VEHICLE TYPE CODE 3            VEHICLE TYPE CODE 4  \\\n",
       "528559                            NaN                            NaN   \n",
       "528560                            NaN                            NaN   \n",
       "528561                            NaN                            NaN   \n",
       "528562                            NaN                            NaN   \n",
       "528563                            NaN                            NaN   \n",
       "528564                            NaN                            NaN   \n",
       "528565  SPORT UTILITY / STATION WAGON                            NaN   \n",
       "528566                            NaN                            NaN   \n",
       "528567                            NaN                            NaN   \n",
       "528568                            NaN                            NaN   \n",
       "528569                            NaN                            NaN   \n",
       "528570                            NaN                            NaN   \n",
       "528571                            NaN                            NaN   \n",
       "528572                            NaN                            NaN   \n",
       "528573                            NaN                            NaN   \n",
       "528574                            NaN                            NaN   \n",
       "528575                            NaN                            NaN   \n",
       "528576                            NaN                            NaN   \n",
       "528577              PASSENGER VEHICLE                            NaN   \n",
       "528578                            NaN                            NaN   \n",
       "528579                            NaN                            NaN   \n",
       "528580                            NaN                            NaN   \n",
       "528581                            NaN                            NaN   \n",
       "528582                            NaN                            NaN   \n",
       "528583                            NaN                            NaN   \n",
       "528584              PASSENGER VEHICLE              PASSENGER VEHICLE   \n",
       "528585                            NaN                            NaN   \n",
       "528586                            NaN                            NaN   \n",
       "528587                            NaN                            NaN   \n",
       "528588                            NaN                            NaN   \n",
       "...                               ...                            ...   \n",
       "512013              PASSENGER VEHICLE              PASSENGER VEHICLE   \n",
       "512014                  PICK-UP TRUCK              PASSENGER VEHICLE   \n",
       "512015              PASSENGER VEHICLE              PASSENGER VEHICLE   \n",
       "512016                            NaN                            NaN   \n",
       "512017              PASSENGER VEHICLE              PASSENGER VEHICLE   \n",
       "512018                            NaN                            NaN   \n",
       "512019                  PICK-UP TRUCK              PASSENGER VEHICLE   \n",
       "512020                            NaN                            NaN   \n",
       "512021              PASSENGER VEHICLE              PASSENGER VEHICLE   \n",
       "512022                            NaN                            NaN   \n",
       "512023  SPORT UTILITY / STATION WAGON              PASSENGER VEHICLE   \n",
       "512024                            NaN                            NaN   \n",
       "512025              PASSENGER VEHICLE                  PICK-UP TRUCK   \n",
       "512026                            NaN                            NaN   \n",
       "512027              PASSENGER VEHICLE  SPORT UTILITY / STATION WAGON   \n",
       "512028              PASSENGER VEHICLE              PASSENGER VEHICLE   \n",
       "512029  SPORT UTILITY / STATION WAGON              PASSENGER VEHICLE   \n",
       "512030                           TAXI                  PICK-UP TRUCK   \n",
       "512031                            NaN                            NaN   \n",
       "512032              PASSENGER VEHICLE  SPORT UTILITY / STATION WAGON   \n",
       "512033              PASSENGER VEHICLE                            NaN   \n",
       "512034                            NaN                            NaN   \n",
       "512035                            NaN                            NaN   \n",
       "512036                            NaN                            NaN   \n",
       "512037  SPORT UTILITY / STATION WAGON              PASSENGER VEHICLE   \n",
       "512038  SPORT UTILITY / STATION WAGON  SPORT UTILITY / STATION WAGON   \n",
       "512039                            NaN                            NaN   \n",
       "512040              PASSENGER VEHICLE              PASSENGER VEHICLE   \n",
       "512041  SPORT UTILITY / STATION WAGON  SPORT UTILITY / STATION WAGON   \n",
       "512042  SPORT UTILITY / STATION WAGON              PASSENGER VEHICLE   \n",
       "\n",
       "                  VEHICLE TYPE CODE 5  \n",
       "528559                            NaN  \n",
       "528560                            NaN  \n",
       "528561                            NaN  \n",
       "528562                            NaN  \n",
       "528563                            NaN  \n",
       "528564                            NaN  \n",
       "528565                            NaN  \n",
       "528566                            NaN  \n",
       "528567                            NaN  \n",
       "528568                            NaN  \n",
       "528569                            NaN  \n",
       "528570                            NaN  \n",
       "528571                            NaN  \n",
       "528572                            NaN  \n",
       "528573                            NaN  \n",
       "528574                            NaN  \n",
       "528575                            NaN  \n",
       "528576                            NaN  \n",
       "528577                            NaN  \n",
       "528578                            NaN  \n",
       "528579                            NaN  \n",
       "528580                            NaN  \n",
       "528581                            NaN  \n",
       "528582                            NaN  \n",
       "528583                            NaN  \n",
       "528584                            NaN  \n",
       "528585                            NaN  \n",
       "528586                            NaN  \n",
       "528587                            NaN  \n",
       "528588                            NaN  \n",
       "...                               ...  \n",
       "512013                            NaN  \n",
       "512014                            NaN  \n",
       "512015              PASSENGER VEHICLE  \n",
       "512016                            NaN  \n",
       "512017                            NaN  \n",
       "512018                            NaN  \n",
       "512019                            NaN  \n",
       "512020                            NaN  \n",
       "512021                            NaN  \n",
       "512022                            NaN  \n",
       "512023                            NaN  \n",
       "512024                            NaN  \n",
       "512025              PASSENGER VEHICLE  \n",
       "512026                            NaN  \n",
       "512027                            NaN  \n",
       "512028                            NaN  \n",
       "512029                            NaN  \n",
       "512030                            NaN  \n",
       "512031                            NaN  \n",
       "512032                            NaN  \n",
       "512033                            NaN  \n",
       "512034                            NaN  \n",
       "512035                            NaN  \n",
       "512036                            NaN  \n",
       "512037                            NaN  \n",
       "512038                            NaN  \n",
       "512039                            NaN  \n",
       "512040                            NaN  \n",
       "512041                            NaN  \n",
       "512042  SPORT UTILITY / STATION WAGON  \n",
       "\n",
       "[17551 rows x 5 columns]"
      ]
     },
     "execution_count": 35,
     "metadata": {},
     "output_type": "execute_result"
    }
   ],
   "source": [
    "dfjan[['VEHICLE TYPE CODE '+str(i) for i in range(1,6)]]"
   ]
  },
  {
   "cell_type": "code",
   "execution_count": 36,
   "metadata": {},
   "outputs": [
    {
     "data": {
      "text/plain": [
       "6212"
      ]
     },
     "execution_count": 36,
     "metadata": {},
     "output_type": "execute_result"
    }
   ],
   "source": [
    "sum(veh_count>=3)"
   ]
  },
  {
   "cell_type": "code",
   "execution_count": 37,
   "metadata": {},
   "outputs": [],
   "source": [
    "def multi_col_count(df):\n",
    "    veh_count = sum(df['VEHICLE TYPE CODE '+str(i)].notnull() for i in range(1,6))\n",
    "    return sum(veh_count>=3)"
   ]
  },
  {
   "cell_type": "code",
   "execution_count": 38,
   "metadata": {},
   "outputs": [],
   "source": [
    "mul_col_ratio_m = [multi_col_count(df)/len(df) for df in dflistm]"
   ]
  },
  {
   "cell_type": "code",
   "execution_count": 39,
   "metadata": {},
   "outputs": [],
   "source": [
    "%matplotlib inline\n",
    "\n",
    "import matplotlib\n",
    "import matplotlib.pyplot as plt"
   ]
  },
  {
   "cell_type": "code",
   "execution_count": 40,
   "metadata": {},
   "outputs": [
    {
     "data": {
      "text/plain": [
       "[<matplotlib.lines.Line2D at 0x2055863c668>]"
      ]
     },
     "execution_count": 40,
     "metadata": {},
     "output_type": "execute_result"
    },
    {
     "data": {
      "image/png": "[encoded data removed]",
      "text/plain": [
       "<Figure size 432x288 with 1 Axes>"
      ]
     },
     "metadata": {
      "needs_background": "light"
     },
     "output_type": "display_data"
    }
   ],
   "source": [
    "plt.plot(mul_col_ratio_m)"
   ]
  },
  {
   "cell_type": "code",
   "execution_count": 41,
   "metadata": {},
   "outputs": [],
   "source": [
    "jan_tot = len(dflistm[0])\n",
    "may_tot = len(dflistm[4])\n",
    "obs_jan_mul=multi_col_count(dflistm[0])\n",
    "obs_may_mul=multi_col_count(dflistm[4])\n",
    "obs_jan_not_mul = jan_tot - obs_jan_mul\n",
    "obs_may_not_mul = may_tot - obs_may_mul\n",
    "mul_tot = obs_jan_mul+obs_may_mul\n",
    "not_mul_tot = obs_jan_not_mul+obs_may_not_mul\n",
    "tot=jan_tot+may_tot\n",
    "\n",
    "exp_jan_mul=jan_tot*(mul_tot/tot)\n",
    "exp_may_mul=may_tot*(mul_tot/tot)\n",
    "exp_jan_not_mul=jan_tot*(not_mul_tot/tot)\n",
    "exp_may_not_mul=may_tot*(not_mul_tot/tot)\n",
    "\n",
    "f_obs=[obs_jan_mul,obs_may_mul,obs_jan_not_mul,obs_may_not_mul]\n",
    "f_exp=[exp_jan_mul,exp_may_mul,exp_jan_not_mul,exp_may_not_mul]\n",
    "# from scipy.stats import chisquare\n",
    "# chi_sq = chisquare(f_obs,f_exp)\n",
    "chi_sq = sum([(obs-exp)**2/exp for obs,exp in [(obs_jan_mul,exp_jan_mul),(obs_may_mul,exp_may_mul),(obs_jan_not_mul,exp_jan_not_mul),(obs_may_not_mul,exp_may_not_mul)]])"
   ]
  },
  {
   "cell_type": "code",
   "execution_count": 42,
   "metadata": {},
   "outputs": [
    {
     "name": "stdout",
     "output_type": "stream",
     "text": [
      "Q7: Power_divergenceResult(statistic=5575.577415064158, pvalue=0.0)\n"
     ]
    }
   ],
   "source": [
    "print('Q7:',chi_sq) #Q7"
   ]
  },
  {
   "cell_type": "code",
   "execution_count": 43,
   "metadata": {},
   "outputs": [
    {
     "data": {
      "text/plain": [
       "5575.577415064158"
      ]
     },
     "execution_count": 43,
     "metadata": {},
     "output_type": "execute_result"
    }
   ],
   "source": [
    "sum([(obs-exp)**2/exp for obs,exp in [(obs_jan_mul,exp_jan_mul),(obs_may_mul,exp_may_mul),(obs_jan_not_mul,exp_jan_not_mul),(obs_may_not_mul,exp_may_not_mul)]])"
   ]
  },
  {
   "cell_type": "code",
   "execution_count": 44,
   "metadata": {},
   "outputs": [],
   "source": [
    "df2017loc=df2017[['ZIP CODE','LATITUDE', 'LONGITUDE']]"
   ]
  },
  {
   "cell_type": "code",
   "execution_count": 45,
   "metadata": {},
   "outputs": [
    {
     "data": {
      "text/plain": [
       "88101"
      ]
     },
     "execution_count": 45,
     "metadata": {},
     "output_type": "execute_result"
    }
   ],
   "source": [
    "sum(df2017loc['ZIP CODE'].isnull())"
   ]
  },
  {
   "cell_type": "code",
   "execution_count": 46,
   "metadata": {},
   "outputs": [
    {
     "data": {
      "text/plain": [
       "13922"
      ]
     },
     "execution_count": 46,
     "metadata": {},
     "output_type": "execute_result"
    }
   ],
   "source": [
    "sum(df2017loc['LATITUDE'].isnull())"
   ]
  },
  {
   "cell_type": "code",
   "execution_count": 47,
   "metadata": {},
   "outputs": [
    {
     "data": {
      "text/plain": [
       "13922"
      ]
     },
     "execution_count": 47,
     "metadata": {},
     "output_type": "execute_result"
    }
   ],
   "source": [
    "sum(df2017loc['LONGITUDE'].isnull())"
   ]
  },
  {
   "cell_type": "code",
   "execution_count": 49,
   "metadata": {},
   "outputs": [],
   "source": [
    "dfq8=df2017loc[df2017loc['ZIP CODE'].notnull()&df2017loc['LATITUDE'].notnull()&df2017loc['LONGITUDE'].notnull()]"
   ]
  },
  {
   "cell_type": "code",
   "execution_count": 50,
   "metadata": {},
   "outputs": [],
   "source": [
    "dfq82=dfq8[(dfq8['LATITUDE']>30) & (dfq8['LATITUDE']<41)]"
   ]
  },
  {
   "cell_type": "code",
   "execution_count": 51,
   "metadata": {},
   "outputs": [
    {
     "data": {
      "text/plain": [
       "array([10471.0, 10032.0, 11432.0, 10456.0, 11231.0, 11206.0, 11434.0,\n",
       "       10002.0, 10004.0, 11249.0, 10470.0, 11212.0, 10452.0, 11234.0,\n",
       "       10473.0, 11385.0, 11235.0, 10475.0, 11226.0, 11358.0, 11428.0,\n",
       "       11412.0, 11205.0, 11435.0, 10306.0, 11413.0, 11367.0, 11222.0,\n",
       "       10453.0, 11214.0, 11354.0, 10065.0, 11372.0, 11203.0, 11219.0,\n",
       "       11211.0, 10023.0, 11005.0, 10458.0, 11233.0, 11419.0, 11102.0,\n",
       "       10033.0, 11421.0, 11228.0, 10036.0, 11223.0, 11355.0, 10469.0,\n",
       "       10474.0, 11221.0, 10018.0, 10017.0, 11220.0, 11436.0, 10305.0,\n",
       "       10022.0, 11379.0, 11213.0, 10454.0, 11204.0, 11218.0, 11375.0,\n",
       "       10304.0, 11236.0, 10019.0, 11691.0, 10461.0, 11230.0, 10035.0,\n",
       "       10029.0, 11368.0, 10003.0, 11357.0, 11423.0, 10314.0, 10468.0,\n",
       "       10025.0, 11369.0, 10009.0, 11201.0, 11208.0, 10013.0, 11366.0,\n",
       "       11694.0, 10462.0, 11207.0, 10309.0, 10021.0, 10001.0, 10312.0,\n",
       "       11420.0, 11104.0, 11373.0, 10028.0, 11215.0, 10012.0, 10472.0,\n",
       "       11216.0, 10467.0, 11433.0, 10466.0, 11427.0, 10463.0, 10007.0,\n",
       "       10016.0, 11210.0, 10460.0, 11103.0, 11106.0, 11411.0, 11237.0,\n",
       "       10459.0, 11217.0, 10014.0, 11238.0, 11415.0, 11377.0, 11362.0,\n",
       "       11374.0, 11429.0, 11209.0, 11004.0, 11692.0, 10034.0, 10282.0,\n",
       "       11378.0, 10011.0, 10024.0, 10455.0, 10030.0, 10075.0, 11361.0,\n",
       "       11422.0, 10308.0, 10457.0, 11229.0, 11693.0, 11101.0, 10301.0,\n",
       "       10451.0, 11239.0, 10031.0, 11417.0, 11426.0, 11001.0, 10026.0,\n",
       "       11416.0, 10037.0, 11225.0, 10027.0, 10038.0, 11232.0, 10465.0,\n",
       "       11356.0, 10006.0, 10010.0, 11224.0, 10039.0, 10310.0, 11363.0,\n",
       "       10177.0, 11418.0, 11360.0, 11364.0, 11365.0, 10005.0, 10020.0,\n",
       "       10172.0, 11370.0, 10103.0, 10110.0, 11105.0, 11414.0, 10040.0,\n",
       "       10128.0, 10168.0, 10278.0, 10307.0, 10464.0, 10118.0, 10302.0,\n",
       "       10169.0, 11040.0, 10119.0, 10000.0, 10121.0, 10153.0, 10171.0,\n",
       "       10281.0, 11697.0, 11359.0, 11430.0, 10280.0, 10069.0, 10165.0,\n",
       "       10178.0, 11109.0, 10151.0, 10123.0, 10271.0, 10279.0, 10045.0,\n",
       "       10170.0, 10152.0, 10105.0, 10174.0, 10041.0, 10112.0, 11241.0,\n",
       "       10120.0, 11242.0, 10107.0, 10173.0, 10155.0, 10167.0, 10111.0,\n",
       "       10154.0, 11695.0], dtype=object)"
      ]
     },
     "execution_count": 51,
     "metadata": {},
     "output_type": "execute_result"
    }
   ],
   "source": [
    "zcodes=dfq82['ZIP CODE'][dfq82['ZIP CODE'].notnull()].unique()\n",
    "zcodes"
   ]
  },
  {
   "cell_type": "code",
   "execution_count": 52,
   "metadata": {},
   "outputs": [],
   "source": [
    "x=dfq82['LONGITUDE']\n",
    "y=dfq82['LATITUDE']"
   ]
  },
  {
   "cell_type": "code",
   "execution_count": 53,
   "metadata": {},
   "outputs": [
    {
     "data": {
      "text/plain": [
       "<matplotlib.collections.PathCollection at 0x205596e3da0>"
      ]
     },
     "execution_count": 53,
     "metadata": {},
     "output_type": "execute_result"
    },
    {
     "data": {
      "image/png": "[encoded data removed]",
      "text/plain": [
       "<Figure size 432x288 with 1 Axes>"
      ]
     },
     "metadata": {
      "needs_background": "light"
     },
     "output_type": "display_data"
    }
   ],
   "source": [
    "plt.scatter(x,y)"
   ]
  },
  {
   "cell_type": "code",
   "execution_count": 54,
   "metadata": {},
   "outputs": [
    {
     "data": {
      "text/html": [
       "<div>\n",
       "<style scoped>\n",
       "    .dataframe tbody tr th:only-of-type {\n",
       "        vertical-align: middle;\n",
       "    }\n",
       "\n",
       "    .dataframe tbody tr th {\n",
       "        vertical-align: top;\n",
       "    }\n",
       "\n",
       "    .dataframe thead th {\n",
       "        text-align: right;\n",
       "    }\n",
       "</style>\n",
       "<table border=\"1\" class=\"dataframe\">\n",
       "  <thead>\n",
       "    <tr style=\"text-align: right;\">\n",
       "      <th></th>\n",
       "      <th>ZIP CODE</th>\n",
       "      <th>LATITUDE</th>\n",
       "      <th>LONGITUDE</th>\n",
       "    </tr>\n",
       "  </thead>\n",
       "  <tbody>\n",
       "    <tr>\n",
       "      <th>298253</th>\n",
       "      <td>10001</td>\n",
       "      <td>40.753925</td>\n",
       "      <td>-73.997610</td>\n",
       "    </tr>\n",
       "    <tr>\n",
       "      <th>298256</th>\n",
       "      <td>10001</td>\n",
       "      <td>40.749100</td>\n",
       "      <td>-73.992010</td>\n",
       "    </tr>\n",
       "    <tr>\n",
       "      <th>298405</th>\n",
       "      <td>10001</td>\n",
       "      <td>40.746580</td>\n",
       "      <td>-73.997560</td>\n",
       "    </tr>\n",
       "    <tr>\n",
       "      <th>298528</th>\n",
       "      <td>10001</td>\n",
       "      <td>40.749870</td>\n",
       "      <td>-73.985890</td>\n",
       "    </tr>\n",
       "    <tr>\n",
       "      <th>298784</th>\n",
       "      <td>10001</td>\n",
       "      <td>40.749550</td>\n",
       "      <td>-74.006540</td>\n",
       "    </tr>\n",
       "    <tr>\n",
       "      <th>298813</th>\n",
       "      <td>10001</td>\n",
       "      <td>40.745037</td>\n",
       "      <td>-73.987050</td>\n",
       "    </tr>\n",
       "    <tr>\n",
       "      <th>298844</th>\n",
       "      <td>10001</td>\n",
       "      <td>40.749783</td>\n",
       "      <td>-73.989790</td>\n",
       "    </tr>\n",
       "    <tr>\n",
       "      <th>298891</th>\n",
       "      <td>10001</td>\n",
       "      <td>40.748436</td>\n",
       "      <td>-73.996200</td>\n",
       "    </tr>\n",
       "    <tr>\n",
       "      <th>299019</th>\n",
       "      <td>10001</td>\n",
       "      <td>40.748900</td>\n",
       "      <td>-73.984245</td>\n",
       "    </tr>\n",
       "    <tr>\n",
       "      <th>299282</th>\n",
       "      <td>10001</td>\n",
       "      <td>40.744232</td>\n",
       "      <td>-73.987640</td>\n",
       "    </tr>\n",
       "    <tr>\n",
       "      <th>299428</th>\n",
       "      <td>10001</td>\n",
       "      <td>40.749670</td>\n",
       "      <td>-73.995310</td>\n",
       "    </tr>\n",
       "    <tr>\n",
       "      <th>299448</th>\n",
       "      <td>10001</td>\n",
       "      <td>40.746197</td>\n",
       "      <td>-73.989006</td>\n",
       "    </tr>\n",
       "    <tr>\n",
       "      <th>299667</th>\n",
       "      <td>10001</td>\n",
       "      <td>40.755780</td>\n",
       "      <td>-74.001990</td>\n",
       "    </tr>\n",
       "    <tr>\n",
       "      <th>299742</th>\n",
       "      <td>10001</td>\n",
       "      <td>40.745594</td>\n",
       "      <td>-73.991410</td>\n",
       "    </tr>\n",
       "    <tr>\n",
       "      <th>299811</th>\n",
       "      <td>10001</td>\n",
       "      <td>40.751522</td>\n",
       "      <td>-73.993960</td>\n",
       "    </tr>\n",
       "    <tr>\n",
       "      <th>300051</th>\n",
       "      <td>10001</td>\n",
       "      <td>40.751522</td>\n",
       "      <td>-73.993960</td>\n",
       "    </tr>\n",
       "    <tr>\n",
       "      <th>300259</th>\n",
       "      <td>10001</td>\n",
       "      <td>40.750540</td>\n",
       "      <td>-73.990944</td>\n",
       "    </tr>\n",
       "    <tr>\n",
       "      <th>300373</th>\n",
       "      <td>10001</td>\n",
       "      <td>40.751656</td>\n",
       "      <td>-73.990140</td>\n",
       "    </tr>\n",
       "    <tr>\n",
       "      <th>300712</th>\n",
       "      <td>10001</td>\n",
       "      <td>40.747720</td>\n",
       "      <td>-73.986820</td>\n",
       "    </tr>\n",
       "    <tr>\n",
       "      <th>300882</th>\n",
       "      <td>10001</td>\n",
       "      <td>40.749954</td>\n",
       "      <td>-73.994064</td>\n",
       "    </tr>\n",
       "    <tr>\n",
       "      <th>301431</th>\n",
       "      <td>10001</td>\n",
       "      <td>40.749100</td>\n",
       "      <td>-73.992010</td>\n",
       "    </tr>\n",
       "    <tr>\n",
       "      <th>302227</th>\n",
       "      <td>10001</td>\n",
       "      <td>40.749794</td>\n",
       "      <td>-73.991490</td>\n",
       "    </tr>\n",
       "    <tr>\n",
       "      <th>302338</th>\n",
       "      <td>10001</td>\n",
       "      <td>40.752686</td>\n",
       "      <td>-74.000534</td>\n",
       "    </tr>\n",
       "    <tr>\n",
       "      <th>302384</th>\n",
       "      <td>10001</td>\n",
       "      <td>40.747770</td>\n",
       "      <td>-74.000404</td>\n",
       "    </tr>\n",
       "    <tr>\n",
       "      <th>302510</th>\n",
       "      <td>10001</td>\n",
       "      <td>40.745384</td>\n",
       "      <td>-73.994710</td>\n",
       "    </tr>\n",
       "    <tr>\n",
       "      <th>302763</th>\n",
       "      <td>10001</td>\n",
       "      <td>40.747820</td>\n",
       "      <td>-73.996650</td>\n",
       "    </tr>\n",
       "    <tr>\n",
       "      <th>302779</th>\n",
       "      <td>10001</td>\n",
       "      <td>40.749100</td>\n",
       "      <td>-73.992010</td>\n",
       "    </tr>\n",
       "    <tr>\n",
       "      <th>302794</th>\n",
       "      <td>10001</td>\n",
       "      <td>40.749100</td>\n",
       "      <td>-73.992010</td>\n",
       "    </tr>\n",
       "    <tr>\n",
       "      <th>302937</th>\n",
       "      <td>10001</td>\n",
       "      <td>40.751945</td>\n",
       "      <td>-73.990810</td>\n",
       "    </tr>\n",
       "    <tr>\n",
       "      <th>303109</th>\n",
       "      <td>10001</td>\n",
       "      <td>40.750480</td>\n",
       "      <td>-73.994720</td>\n",
       "    </tr>\n",
       "    <tr>\n",
       "      <th>...</th>\n",
       "      <td>...</td>\n",
       "      <td>...</td>\n",
       "      <td>...</td>\n",
       "    </tr>\n",
       "    <tr>\n",
       "      <th>524691</th>\n",
       "      <td>10001</td>\n",
       "      <td>40.749100</td>\n",
       "      <td>-73.992010</td>\n",
       "    </tr>\n",
       "    <tr>\n",
       "      <th>524727</th>\n",
       "      <td>10001</td>\n",
       "      <td>40.746037</td>\n",
       "      <td>-73.990524</td>\n",
       "    </tr>\n",
       "    <tr>\n",
       "      <th>524785</th>\n",
       "      <td>10001</td>\n",
       "      <td>40.752342</td>\n",
       "      <td>-73.991790</td>\n",
       "    </tr>\n",
       "    <tr>\n",
       "      <th>525175</th>\n",
       "      <td>10001</td>\n",
       "      <td>40.748700</td>\n",
       "      <td>-73.985180</td>\n",
       "    </tr>\n",
       "    <tr>\n",
       "      <th>525497</th>\n",
       "      <td>10001</td>\n",
       "      <td>40.750206</td>\n",
       "      <td>-74.002340</td>\n",
       "    </tr>\n",
       "    <tr>\n",
       "      <th>525880</th>\n",
       "      <td>10001</td>\n",
       "      <td>40.750988</td>\n",
       "      <td>-73.990630</td>\n",
       "    </tr>\n",
       "    <tr>\n",
       "      <th>526107</th>\n",
       "      <td>10001</td>\n",
       "      <td>40.748466</td>\n",
       "      <td>-73.992470</td>\n",
       "    </tr>\n",
       "    <tr>\n",
       "      <th>526151</th>\n",
       "      <td>10001</td>\n",
       "      <td>40.744373</td>\n",
       "      <td>-73.992300</td>\n",
       "    </tr>\n",
       "    <tr>\n",
       "      <th>526252</th>\n",
       "      <td>10001</td>\n",
       "      <td>40.752617</td>\n",
       "      <td>-73.994510</td>\n",
       "    </tr>\n",
       "    <tr>\n",
       "      <th>526365</th>\n",
       "      <td>10001</td>\n",
       "      <td>40.749770</td>\n",
       "      <td>-73.987785</td>\n",
       "    </tr>\n",
       "    <tr>\n",
       "      <th>526388</th>\n",
       "      <td>10001</td>\n",
       "      <td>40.745384</td>\n",
       "      <td>-73.994710</td>\n",
       "    </tr>\n",
       "    <tr>\n",
       "      <th>526405</th>\n",
       "      <td>10001</td>\n",
       "      <td>40.750828</td>\n",
       "      <td>-74.001890</td>\n",
       "    </tr>\n",
       "    <tr>\n",
       "      <th>526454</th>\n",
       "      <td>10001</td>\n",
       "      <td>40.745422</td>\n",
       "      <td>-73.990974</td>\n",
       "    </tr>\n",
       "    <tr>\n",
       "      <th>526488</th>\n",
       "      <td>10001</td>\n",
       "      <td>40.755780</td>\n",
       "      <td>-74.001990</td>\n",
       "    </tr>\n",
       "    <tr>\n",
       "      <th>526843</th>\n",
       "      <td>10001</td>\n",
       "      <td>40.752052</td>\n",
       "      <td>-74.000984</td>\n",
       "    </tr>\n",
       "    <tr>\n",
       "      <th>526851</th>\n",
       "      <td>10001</td>\n",
       "      <td>40.747124</td>\n",
       "      <td>-73.987366</td>\n",
       "    </tr>\n",
       "    <tr>\n",
       "      <th>526969</th>\n",
       "      <td>10001</td>\n",
       "      <td>40.750800</td>\n",
       "      <td>-73.998190</td>\n",
       "    </tr>\n",
       "    <tr>\n",
       "      <th>527727</th>\n",
       "      <td>10001</td>\n",
       "      <td>40.750294</td>\n",
       "      <td>-73.994850</td>\n",
       "    </tr>\n",
       "    <tr>\n",
       "      <th>527762</th>\n",
       "      <td>10001</td>\n",
       "      <td>40.750294</td>\n",
       "      <td>-73.994850</td>\n",
       "    </tr>\n",
       "    <tr>\n",
       "      <th>527825</th>\n",
       "      <td>10001</td>\n",
       "      <td>40.750294</td>\n",
       "      <td>-73.994850</td>\n",
       "    </tr>\n",
       "    <tr>\n",
       "      <th>527937</th>\n",
       "      <td>10001</td>\n",
       "      <td>40.746616</td>\n",
       "      <td>-73.993820</td>\n",
       "    </tr>\n",
       "    <tr>\n",
       "      <th>528026</th>\n",
       "      <td>10001</td>\n",
       "      <td>40.749794</td>\n",
       "      <td>-73.991490</td>\n",
       "    </tr>\n",
       "    <tr>\n",
       "      <th>528164</th>\n",
       "      <td>10001</td>\n",
       "      <td>40.750800</td>\n",
       "      <td>-73.990750</td>\n",
       "    </tr>\n",
       "    <tr>\n",
       "      <th>528230</th>\n",
       "      <td>10001</td>\n",
       "      <td>40.746273</td>\n",
       "      <td>-73.989140</td>\n",
       "    </tr>\n",
       "    <tr>\n",
       "      <th>528323</th>\n",
       "      <td>10001</td>\n",
       "      <td>40.748413</td>\n",
       "      <td>-73.988780</td>\n",
       "    </tr>\n",
       "    <tr>\n",
       "      <th>528741</th>\n",
       "      <td>10001</td>\n",
       "      <td>40.748657</td>\n",
       "      <td>-73.992320</td>\n",
       "    </tr>\n",
       "    <tr>\n",
       "      <th>528752</th>\n",
       "      <td>10001</td>\n",
       "      <td>40.747720</td>\n",
       "      <td>-73.986820</td>\n",
       "    </tr>\n",
       "    <tr>\n",
       "      <th>528792</th>\n",
       "      <td>10001</td>\n",
       "      <td>40.749150</td>\n",
       "      <td>-73.995700</td>\n",
       "    </tr>\n",
       "    <tr>\n",
       "      <th>528800</th>\n",
       "      <td>10001</td>\n",
       "      <td>40.754580</td>\n",
       "      <td>-73.999150</td>\n",
       "    </tr>\n",
       "    <tr>\n",
       "      <th>529018</th>\n",
       "      <td>10001</td>\n",
       "      <td>40.754616</td>\n",
       "      <td>-73.997116</td>\n",
       "    </tr>\n",
       "  </tbody>\n",
       "</table>\n",
       "<p>1656 rows × 3 columns</p>\n",
       "</div>"
      ],
      "text/plain": [
       "       ZIP CODE   LATITUDE  LONGITUDE\n",
       "298253    10001  40.753925 -73.997610\n",
       "298256    10001  40.749100 -73.992010\n",
       "298405    10001  40.746580 -73.997560\n",
       "298528    10001  40.749870 -73.985890\n",
       "298784    10001  40.749550 -74.006540\n",
       "298813    10001  40.745037 -73.987050\n",
       "298844    10001  40.749783 -73.989790\n",
       "298891    10001  40.748436 -73.996200\n",
       "299019    10001  40.748900 -73.984245\n",
       "299282    10001  40.744232 -73.987640\n",
       "299428    10001  40.749670 -73.995310\n",
       "299448    10001  40.746197 -73.989006\n",
       "299667    10001  40.755780 -74.001990\n",
       "299742    10001  40.745594 -73.991410\n",
       "299811    10001  40.751522 -73.993960\n",
       "300051    10001  40.751522 -73.993960\n",
       "300259    10001  40.750540 -73.990944\n",
       "300373    10001  40.751656 -73.990140\n",
       "300712    10001  40.747720 -73.986820\n",
       "300882    10001  40.749954 -73.994064\n",
       "301431    10001  40.749100 -73.992010\n",
       "302227    10001  40.749794 -73.991490\n",
       "302338    10001  40.752686 -74.000534\n",
       "302384    10001  40.747770 -74.000404\n",
       "302510    10001  40.745384 -73.994710\n",
       "302763    10001  40.747820 -73.996650\n",
       "302779    10001  40.749100 -73.992010\n",
       "302794    10001  40.749100 -73.992010\n",
       "302937    10001  40.751945 -73.990810\n",
       "303109    10001  40.750480 -73.994720\n",
       "...         ...        ...        ...\n",
       "524691    10001  40.749100 -73.992010\n",
       "524727    10001  40.746037 -73.990524\n",
       "524785    10001  40.752342 -73.991790\n",
       "525175    10001  40.748700 -73.985180\n",
       "525497    10001  40.750206 -74.002340\n",
       "525880    10001  40.750988 -73.990630\n",
       "526107    10001  40.748466 -73.992470\n",
       "526151    10001  40.744373 -73.992300\n",
       "526252    10001  40.752617 -73.994510\n",
       "526365    10001  40.749770 -73.987785\n",
       "526388    10001  40.745384 -73.994710\n",
       "526405    10001  40.750828 -74.001890\n",
       "526454    10001  40.745422 -73.990974\n",
       "526488    10001  40.755780 -74.001990\n",
       "526843    10001  40.752052 -74.000984\n",
       "526851    10001  40.747124 -73.987366\n",
       "526969    10001  40.750800 -73.998190\n",
       "527727    10001  40.750294 -73.994850\n",
       "527762    10001  40.750294 -73.994850\n",
       "527825    10001  40.750294 -73.994850\n",
       "527937    10001  40.746616 -73.993820\n",
       "528026    10001  40.749794 -73.991490\n",
       "528164    10001  40.750800 -73.990750\n",
       "528230    10001  40.746273 -73.989140\n",
       "528323    10001  40.748413 -73.988780\n",
       "528741    10001  40.748657 -73.992320\n",
       "528752    10001  40.747720 -73.986820\n",
       "528792    10001  40.749150 -73.995700\n",
       "528800    10001  40.754580 -73.999150\n",
       "529018    10001  40.754616 -73.997116\n",
       "\n",
       "[1656 rows x 3 columns]"
      ]
     },
     "execution_count": 54,
     "metadata": {},
     "output_type": "execute_result"
    }
   ],
   "source": [
    "dfq82[dfq82['ZIP CODE']==10001]"
   ]
  },
  {
   "cell_type": "code",
   "execution_count": 55,
   "metadata": {},
   "outputs": [
    {
     "data": {
      "image/png": "[encoded data removed]",
      "text/plain": [
       "<Figure size 432x288 with 1 Axes>"
      ]
     },
     "metadata": {
      "needs_background": "light"
     },
     "output_type": "display_data"
    }
   ],
   "source": [
    "for c in zcodes:\n",
    "    x=dfq82[dfq82['ZIP CODE']==c]['LONGITUDE']\n",
    "    y=dfq82[dfq82['ZIP CODE']==c]['LATITUDE']\n",
    "    plt.scatter(x,y)"
   ]
  },
  {
   "cell_type": "code",
   "execution_count": 56,
   "metadata": {},
   "outputs": [
    {
     "data": {
      "text/plain": [
       "1656"
      ]
     },
     "execution_count": 56,
     "metadata": {},
     "output_type": "execute_result"
    }
   ],
   "source": [
    "len(dfq82[dfq82['ZIP CODE']==10001])"
   ]
  },
  {
   "cell_type": "code",
   "execution_count": 74,
   "metadata": {},
   "outputs": [],
   "source": [
    "zcode_data={}\n",
    "for c in zcodes:\n",
    "    x=dfq82[dfq82['ZIP CODE']==c]['LONGITUDE']\n",
    "    y=dfq82[dfq82['ZIP CODE']==c]['LATITUDE']\n",
    "    long = np.std(x)\n",
    "    lat = np.std(y)\n",
    "    n = len(dfq82[dfq82['ZIP CODE']==c])\n",
    "    if n>1000:\n",
    "        zcode_data[c]=(n,long,lat)"
   ]
  },
  {
   "cell_type": "code",
   "execution_count": 75,
   "metadata": {},
   "outputs": [
    {
     "data": {
      "text/plain": [
       "{11432.0: (1220, 0.0087904184467902, 0.006857272233575579),\n",
       " 11206.0: (1382, 0.009041600917850879, 0.00476859658664144),\n",
       " 11434.0: (1556, 0.009168451847127288, 0.009897496650674489),\n",
       " 10002.0: (1607, 0.00688529348890604, 0.004737444773737865),\n",
       " 11212.0: (1700, 0.007257778309404504, 0.008543675990676425),\n",
       " 11234.0: (1903, 0.009250187075451857, 0.009641451550628252),\n",
       " 11385.0: (1732, 0.018610677740185558, 0.005144623002763771),\n",
       " 11235.0: (1226, 0.009879028822676722, 0.005000945884086493),\n",
       " 11226.0: (1864, 0.005389610021551626, 0.006216390127256487),\n",
       " 10306.0: (1119, 0.013988226670548986, 0.0082061369683079),\n",
       " 11413.0: (1085, 0.008916754450333061, 0.00811688098564171),\n",
       " 11354.0: (1319, 0.008774890137214207, 0.004606573667571423),\n",
       " 11372.0: (1075, 0.007059325900290361, 0.0030584888685500525),\n",
       " 11203.0: (1866, 0.007196111804001241, 0.006574294780318073),\n",
       " 11219.0: (1138, 0.00836201042285183, 0.00584372663393347),\n",
       " 11211.0: (1346, 0.008800291598545918, 0.0040730392177027565),\n",
       " 10458.0: (1012, 0.004639128328530849, 0.009238255735135802),\n",
       " 11233.0: (1467, 0.007445468272663013, 0.004417161113542584),\n",
       " 10036.0: (1638, 0.005025644810487946, 0.0022761785301135345),\n",
       " 11223.0: (1039, 0.008718258809258028, 0.008072015386858122),\n",
       " 11355.0: (1150, 0.0070832600830844795, 0.005266921274875567),\n",
       " 10469.0: (1036, 0.008094393111991567, 0.006382690902754435),\n",
       " 11221.0: (1151, 0.00873883085349425, 0.0046780610599620985),\n",
       " 10018.0: (1384, 0.008059516462888565, 0.002744821055203922),\n",
       " 11220.0: (1201, 0.007221622274370686, 0.0059848307536541695),\n",
       " 10022.0: (1383, 0.00400141480153406, 0.002288472418065111),\n",
       " 11213.0: (1091, 0.005635386912721853, 0.004283276877249133),\n",
       " 11218.0: (1011, 0.009636830781106687, 0.010935594898179),\n",
       " 11236.0: (1908, 0.010094259163232944, 0.0068825675571246615),\n",
       " 10019.0: (1585, 0.007028331551261947, 0.004445536733794953),\n",
       " 10461.0: (1066, 0.008319232546555446, 0.006065431974084754),\n",
       " 11230.0: (1563, 0.005820943905919629, 0.006868642648031081),\n",
       " 11368.0: (1289, 0.008454959159780168, 0.006993907407927945),\n",
       " 11201.0: (1503, 0.007699700729086192, 0.005588245051746522),\n",
       " 11208.0: (1392, 0.00731013662379064, 0.008452947761809586),\n",
       " 10013.0: (1506, 0.004352265239864057, 0.002744390297793226),\n",
       " 11207.0: (2355, 0.008703507691711134, 0.010567599314415345),\n",
       " 10001.0: (1656, 0.005333803909291558, 0.0032708923380570464),\n",
       " 11420.0: (1114, 0.008024982404206266, 0.0060140535500409235),\n",
       " 11373.0: (1181, 0.007228531911407056, 0.005399377180330723),\n",
       " 11216.0: (1023, 0.004457386171905433, 0.005694499433449858),\n",
       " 10467.0: (1320, 0.008159846416260672, 0.009940048048308472),\n",
       " 10466.0: (1199, 0.009590551328894756, 0.004942800331818611),\n",
       " 10016.0: (1494, 0.00397608285927827, 0.00326205293185437),\n",
       " 11210.0: (1280, 0.005495329347649095, 0.008370355104791682),\n",
       " 10460.0: (1078, 0.008041644657733075, 0.004632225804482209),\n",
       " 10459.0: (1028, 0.003990453305830628, 0.0045021521133289675),\n",
       " 11217.0: (1162, 0.005037904208867289, 0.005712343763499801),\n",
       " 11377.0: (1140, 0.0072953981437112285, 0.006976112364914064),\n",
       " 10011.0: (1113, 0.004512240692805979, 0.00402872197671354),\n",
       " 10457.0: (1098, 0.00999369014570951, 0.00954213500438676),\n",
       " 11101.0: (1830, 0.009453311337767528, 0.006284751846473238),\n",
       " 10451.0: (1025, 0.007694066337737626, 0.007613798972758102)}"
      ]
     },
     "execution_count": 75,
     "metadata": {},
     "output_type": "execute_result"
    }
   ],
   "source": [
    "zcode_data"
   ]
  },
  {
   "cell_type": "code",
   "execution_count": 76,
   "metadata": {},
   "outputs": [],
   "source": [
    "def area(long,lat):\n",
    "    dx = 111.320*0.758134*long\n",
    "    dy = 110.574*lat\n",
    "    pi = 3.141592\n",
    "    out = dx * dy * pi\n",
    "    return out"
   ]
  },
  {
   "cell_type": "code",
   "execution_count": 77,
   "metadata": {},
   "outputs": [],
   "source": [
    "zcode_data2={}\n",
    "for c in zcode_data:\n",
    "    n,long,lat=zcode_data[c]\n",
    "    a = area(long,lat)\n",
    "    zcode_data2[c]=(n,a,n/a)"
   ]
  },
  {
   "cell_type": "code",
   "execution_count": 78,
   "metadata": {},
   "outputs": [
    {
     "data": {
      "text/plain": [
       "{11432.0: (1220, 1.767188654603464, 690.3620599996175),\n",
       " 11206.0: (1382, 1.2640314857114687, 1093.327196056459),\n",
       " 11434.0: (1556, 2.6603779900363467, 584.8792937798819),\n",
       " 10002.0: (1607, 0.9562877478562997, 1680.4565399926908),\n",
       " 11212.0: (1700, 1.8179018959765652, 935.1439721596038),\n",
       " 11234.0: (1903, 2.614658136908388, 727.8198144290237),\n",
       " 11385.0: (1732, 2.8069696604402394, 617.0355256808713),\n",
       " 11235.0: (1226, 1.4483995520017443, 846.4515183711708),\n",
       " 11226.0: (1864, 0.9822399144333532, 1897.7033743078212),\n",
       " 10306.0: (1119, 3.36529698899865, 332.51151492961117),\n",
       " 11413.0: (1085, 2.1218660280674033, 511.34236829655947),\n",
       " 11354.0: (1319, 1.1850636656661901, 1113.0203703094016),\n",
       " 11372.0: (1075, 0.6329830934514642, 1698.307602717084),\n",
       " 11203.0: (1866, 1.3869763307427387, 1345.3726344419588),\n",
       " 11219.0: (1138, 1.4325921613800616, 794.3642515143517),\n",
       " 11211.0: (1346, 1.0508424996686379, 1280.8770109930215),\n",
       " 10458.0: (1012, 1.2564590557975648, 805.4381042744054),\n",
       " 11233.0: (1467, 0.9641780310715009, 1521.503241854316),\n",
       " 10036.0: (1638, 0.3353668164613972, 4884.204159741439),\n",
       " 11223.0: (1039, 2.063163816796232, 503.5954932620926),\n",
       " 11355.0: (1150, 1.0937346973307938, 1051.4432821839875),\n",
       " 10469.0: (1036, 1.5146422951005354, 683.9898788982615),\n",
       " 11221.0: (1151, 1.1985087077034093, 960.3601480756482),\n",
       " 10018.0: (1384, 0.6485522905581727, 2133.98367432928),\n",
       " 11220.0: (1201, 1.2670933647076275, 947.8385993104163),\n",
       " 10022.0: (1383, 0.26846101696484004, 5151.585938382739),\n",
       " 11213.0: (1091, 0.7076554603527327, 1541.7107068688315),\n",
       " 11218.0: (1011, 3.089574137441879, 327.2295646665054),\n",
       " 11236.0: (1908, 2.03679306701093, 936.7667392937768),\n",
       " 10019.0: (1585, 0.9160062101208671, 1730.3376139675506),\n",
       " 10461.0: (1066, 1.4793365069469167, 720.5933166619618),\n",
       " 11230.0: (1563, 1.1721584172986863, 1333.4375089009154),\n",
       " 11368.0: (1289, 1.7336178374102047, 743.5318050981728),\n",
       " 11201.0: (1503, 1.2614535460084988, 1191.4826390205208),\n",
       " 11208.0: (1392, 1.8115722239920107, 768.3933224216507),\n",
       " 10013.0: (1506, 0.35017344136862594, 4300.7259320236135),\n",
       " 11207.0: (2355, 2.696451602827029, 873.3700236010013),\n",
       " 10001.0: (1656, 0.5114760106069847, 3237.6885047546466),\n",
       " 11420.0: (1114, 1.4149247843754875, 787.3210027144247),\n",
       " 11373.0: (1181, 1.1442363588229858, 1032.1294118068674),\n",
       " 11216.0: (1023, 0.7441453799924127, 1374.7313730691044),\n",
       " 10467.0: (1320, 2.377893734547912, 555.1131157889862),\n",
       " 10466.0: (1199, 1.3897561849088444, 862.7412585169704),\n",
       " 10016.0: (1494, 0.38024928352277265, 3929.001485969996),\n",
       " 11210.0: (1280, 1.3485268036697748, 949.1839513435763),\n",
       " 10460.0: (1078, 1.0920853331696352, 987.102351124198),\n",
       " 10459.0: (1028, 0.526701277722937, 1951.7704692958112),\n",
       " 11217.0: (1162, 0.8436964365270855, 1377.2726180794955),\n",
       " 11377.0: (1140, 1.4920536514473453, 764.0475923195921),\n",
       " 10011.0: (1113, 0.5329439417621119, 2088.3997598696888),\n",
       " 10457.0: (1098, 2.795718311835869, 392.74343032040827),\n",
       " 11101.0: (1830, 1.741783089617589, 1050.6474720694293),\n",
       " 10451.0: (1025, 1.717431035340373, 596.8216358666524)}"
      ]
     },
     "execution_count": 78,
     "metadata": {},
     "output_type": "execute_result"
    }
   ],
   "source": [
    "zcode_data2"
   ]
  },
  {
   "cell_type": "code",
   "execution_count": 79,
   "metadata": {},
   "outputs": [
    {
     "name": "stdout",
     "output_type": "stream",
     "text": [
      "Q8, (10022.0, (1383, 0.26846101696484004, 5151.585938382739))\n"
     ]
    }
   ],
   "source": [
    "print('Q8,',max(zcode_data2.items(),key=lambda x:x[1][2])) #Q8"
   ]
  },
  {
   "cell_type": "code",
   "execution_count": 80,
   "metadata": {},
   "outputs": [
    {
     "data": {
      "image/png": "[encoded data removed]",
      "text/plain": [
       "<Figure size 432x288 with 1 Axes>"
      ]
     },
     "metadata": {
      "needs_background": "light"
     },
     "output_type": "display_data"
    }
   ],
   "source": [
    "for c in [10022]:\n",
    "    x=dfq82[dfq82['ZIP CODE']==c]['LONGITUDE']\n",
    "    y=dfq82[dfq82['ZIP CODE']==c]['LATITUDE']\n",
    "    plt.scatter(x,y)"
   ]
  },
  {
   "cell_type": "code",
   "execution_count": 71,
   "metadata": {},
   "outputs": [
    {
     "data": {
      "text/plain": [
       "0.00400141480153406"
      ]
     },
     "execution_count": 71,
     "metadata": {},
     "output_type": "execute_result"
    }
   ],
   "source": [
    "np.std(x)"
   ]
  },
  {
   "cell_type": "code",
   "execution_count": 70,
   "metadata": {},
   "outputs": [
    {
     "data": {
      "text/plain": [
       "0.002288472418065111"
      ]
     },
     "execution_count": 70,
     "metadata": {},
     "output_type": "execute_result"
    }
   ],
   "source": [
    "np.std(y)"
   ]
  },
  {
   "cell_type": "code",
   "execution_count": 65,
   "metadata": {},
   "outputs": [
    {
     "data": {
      "text/plain": [
       "0.26846101696484004"
      ]
     },
     "execution_count": 65,
     "metadata": {},
     "output_type": "execute_result"
    }
   ],
   "source": [
    "dx = 110.574*0.758134*long\n",
    "dy = 111.320*lat\n",
    "pi = 3.141592\n",
    "dx * dy*pi"
   ]
  },
  {
   "cell_type": "code",
   "execution_count": 73,
   "metadata": {},
   "outputs": [
    {
     "data": {
      "text/plain": [
       "10.0"
      ]
     },
     "execution_count": 73,
     "metadata": {},
     "output_type": "execute_result"
    }
   ],
   "source": [
    "np.std([0,0,0,0,20,20,20,20])"
   ]
  },
  {
   "cell_type": "code",
   "execution_count": null,
   "metadata": {},
   "outputs": [],
   "source": []
  }
 ],
 "metadata": {
  "kernelspec": {
   "display_name": "Python 3",
   "language": "python",
   "name": "python3"
  },
  "language_info": {
   "codemirror_mode": {
    "name": "ipython",
    "version": 3
   },
   "file_extension": ".py",
   "mimetype": "text/x-python",
   "name": "python",
   "nbconvert_exporter": "python",
   "pygments_lexer": "ipython3",
   "version": "3.7.3"
  }
 },
 "nbformat": 4,
 "nbformat_minor": 2
}
